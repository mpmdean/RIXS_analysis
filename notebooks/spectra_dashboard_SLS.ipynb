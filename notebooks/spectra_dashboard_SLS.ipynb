{
 "cells": [
  {
   "cell_type": "markdown",
   "metadata": {
    "deletable": true,
    "editable": true,
    "extensions": {
     "jupyter_dashboards": {
      "version": 1,
      "views": {
       "grid_default": {
        "col": 0,
        "height": 3,
        "hidden": false,
        "row": 0,
        "width": 2
       },
       "report_default": {
        "hidden": false
       }
      }
     }
    }
   },
   "source": [
    "# Spectra processor"
   ]
  },
  {
   "cell_type": "code",
   "execution_count": 1,
   "metadata": {
    "collapsed": true,
    "deletable": true,
    "editable": true,
    "extensions": {
     "jupyter_dashboards": {
      "version": 1,
      "views": {
       "grid_default": {
        "col": 4,
        "height": 4,
        "hidden": false,
        "row": 33,
        "width": 4
       },
       "report_default": {
        "hidden": true
       }
      }
     }
    },
    "scrolled": true
   },
   "outputs": [],
   "source": [
    "import numpy as np\n",
    "import pandas as pd\n",
    "\n",
    "import os, glob\n",
    "\n",
    "from collections import OrderedDict\n",
    "\n",
    "import matplotlib\n",
    "import matplotlib.pyplot as plt\n",
    "\n",
    "import ipywidgets as widgets\n",
    "from traitlets import dlink\n",
    "from IPython.display import display, clear_output\n",
    "\n",
    "import lmfit\n",
    "\n",
    "from pyrixs import process1d\n",
    "\n",
    "import h5py\n",
    "\n",
    "%matplotlib nbagg"
   ]
  },
  {
   "cell_type": "code",
   "execution_count": 2,
   "metadata": {
    "collapsed": true,
    "deletable": true,
    "editable": true,
    "extensions": {
     "jupyter_dashboards": {
      "version": 1,
      "views": {
       "grid_default": {
        "col": 8,
        "height": 4,
        "hidden": false,
        "row": 33,
        "width": 4
       },
       "report_default": {
        "hidden": true
       }
      }
     }
    },
    "scrolled": false
   },
   "outputs": [],
   "source": [
    "#global Data\n",
    "Data = OrderedDict({\n",
    "'raw_spectra' : pd.Series(np.array([])),\n",
    "'shifts' : pd.Series(np.array([])),\n",
    "'reference' : '',\n",
    "'aligned_spectra' : pd.Series(np.array([])),\n",
    "'raw_spectrum' : pd.Series(np.array([])),\n",
    "'calibrated_spectrum' : pd.Series(np.array([])),\n",
    "'meta': '',\n",
    "'save_filename': '',\n",
    "'fit_result' : None\n",
    "})\n",
    "\n",
    "#AXES = OrderedDict(ax1=None, ax2=None, ax3=None, ax4=None)\n",
    "\n",
    "figsize = (3.5,2.5)\n",
    "width = '100px'"
   ]
  },
  {
   "cell_type": "code",
   "execution_count": 3,
   "metadata": {
    "collapsed": true,
    "deletable": true,
    "editable": true,
    "extensions": {
     "jupyter_dashboards": {
      "version": 1,
      "views": {
       "grid_default": {
        "col": 0,
        "height": 4,
        "hidden": false,
        "row": 33,
        "width": 4
       },
       "report_default": {
        "hidden": true
       }
      }
     }
    },
    "scrolled": false
   },
   "outputs": [],
   "source": [
    "## SEPARATE FUNCTIONS DEFINED HERE ##\n",
    "def get_E_pol(search_path, filename):\n",
    "    \"\"\"Get Photon energy and polarization from SLS h5 file\"\"\"\n",
    "    with h5py.File(os.path.join(search_path, filename), mode='r') as h5file:\n",
    "        ein = np.mean(h5file['entry']['instrument']['NDAttributes']['PhotonEnergy'].value)\n",
    "        temp = np.mean(h5file['entry']['instrument']['NDAttributes']['SampleTemp'].value)\n",
    "        pol10 = np.mean(h5file['entry']['instrument']['NDAttributes']['PolarMode'].value)\n",
    "    if pol10 == 0:\n",
    "        pol = 'LH'\n",
    "    elif pol10 == 1:\n",
    "        pol = 'LV'\n",
    "    return ein, pol, temp\n",
    "\n",
    "\n",
    "def check_processed(search_path,filename):\n",
    "    \"\"\"Check if spectrum has been aligned before. If so load previously used parameters.\"\"\"\n",
    "    try:\n",
    "        processed_file = open(os.path.join(search_path, filename),'r').readlines()\n",
    "        message = 'It looks like these scans have been processed!\\n'\n",
    "        message += 'The parameters that were used will be loaded.\\n\\n'\n",
    "        message_widget.value += message\n",
    "        for line in processed_file:\n",
    "            if 'Align min' in line:\n",
    "                align_min_widget.value = float(line.split('=')[-1])\n",
    "            elif 'Align max' in line:\n",
    "                align_max_widget.value = float(line.split('=')[-1])\n",
    "            elif 'Zero energy pixel ' in line:\n",
    "                zero_energy_widget.value = float(line.split('=')[-1])\n",
    "                \n",
    "    except FileNotFoundError:\n",
    "        return\n",
    "    \n",
    "# unused, but keep for now. Delete later\n",
    "def test_files_exist(folder, filenames):\n",
    "    for filename in filenames:\n",
    "        filepath = os.path.join(folder, filename)\n",
    "        assert os.path.isfile(filepath), \"{} Does not exist\".format(filepath)"
   ]
  },
  {
   "cell_type": "code",
   "execution_count": 4,
   "metadata": {
    "collapsed": false,
    "deletable": true,
    "editable": true,
    "extensions": {
     "jupyter_dashboards": {
      "version": 1,
      "views": {
       "grid_default": {
        "col": 4,
        "height": 4,
        "hidden": false,
        "row": 37,
        "width": 4
       },
       "report_default": {
        "hidden": true
       }
      }
     }
    },
    "scrolled": false
   },
   "outputs": [],
   "source": [
    "## WIDGETS DEFINED HERE ##\n",
    "\n",
    "# widgets by the side of the plots \n",
    "scan_number_widget = widgets.Text(value='0609', layout=widgets.Layout(width=width))\n",
    "align_min_widget = widgets.FloatText(value=100, layout=widgets.Layout(width=width))\n",
    "align_max_widget = widgets.FloatText(value=3000, layout=widgets.Layout(width=width))\n",
    "zero_energy_widget = widgets.FloatText(value=900, layout=widgets.Layout(width=width))\n",
    "\n",
    "\n",
    "input_folder_widget = widgets.Text(\n",
    "    value='test_data/',  \n",
    "    description='Input folder',\n",
    ")\n",
    "\n",
    "output_folder_widget = widgets.Text(\n",
    "    value='TEST/',  \n",
    "    description='Output folder',\n",
    ")\n",
    "\n",
    "ee_pix_widget = widgets.FloatText(\n",
    "    value=0.00915,  \n",
    "    description='Energy per pixel',\n",
    ")\n",
    "\n",
    "\n",
    "display_shifts_widget =widgets.HTML(\n",
    "    value=\"\",\n",
    ")\n",
    "\n",
    "output_filename_widget = widgets.Text(\n",
    "    value='file_out_name',  \n",
    "    description='Output filename',\n",
    ")\n",
    "\n",
    "\n",
    "\n",
    "output_header_widget = widgets.Text(\n",
    "    value='description of sample and conditions',\n",
    "    description='Header',\n",
    ")\n",
    "\n",
    "load_plot_button = widgets.Button(description='Load')\n",
    "fit_button = widgets.Button(description='Fit')\n",
    "\n",
    "\n",
    "reset_shifts_button = widgets.Button(description = 'Reset shifts')\n",
    "\n",
    "plot_range_widget = widgets.IntRangeSlider(\n",
    "    value=[1, 3200],\n",
    "    min=0,\n",
    "    max=3500,\n",
    "    step=10,\n",
    "    description='Plot pixel limit',\n",
    "    disabled=False,\n",
    "    continuous_update=False,\n",
    "    orientation='horizontal',\n",
    "    readout=True,\n",
    "    readout_format='i',\n",
    "    slider_color='white',\n",
    "    color='black',\n",
    "    layout=widgets.Layout(width='50%')\n",
    ")\n",
    "\n",
    "message_widget = widgets.Textarea(desciption='Messages', value = '', width='2000px', height='2000px')"
   ]
  },
  {
   "cell_type": "code",
   "execution_count": 5,
   "metadata": {
    "collapsed": false,
    "deletable": true,
    "editable": true,
    "extensions": {
     "jupyter_dashboards": {
      "version": 1,
      "views": {
       "grid_default": {
        "col": 8,
        "height": 4,
        "hidden": false,
        "row": 37,
        "width": 4
       },
       "report_default": {
        "hidden": true
       }
      }
     }
    },
    "scrolled": false
   },
   "outputs": [],
   "source": [
    "## FUNCTIONS BOUND TO WIDGETS ##\n",
    "def wrap_load_plot(change):\n",
    "\n",
    "    Data['meta'] = '# ' + output_header_widget.value + '\\n'\n",
    "    scans = scan_number_widget.value.split()\n",
    "    filenames = ['Co_' + '{:04d}_d{}.h5'.format(int(scan), det) for det in [1,2,3] for scan in scans]\n",
    "    ein, pol, temp = get_E_pol(input_folder_widget.value, filenames[0])\n",
    "    Data['save_filename'] = output_filename_widget.value + '_{:0.2f}eV_{}.dat'.format(ein,pol)\n",
    "    \n",
    "    check_processed(output_folder_widget.value,Data['save_filename'])\n",
    "    \n",
    "    Data['raw_spectra'] = process1d.load_spectra(input_folder_widget.value, filenames)\n",
    "    \n",
    "    if len(Data['raw_spectra'].columns) != len(Data['shifts']):\n",
    "        Data['shifts'] = pd.Series(data=np.zeros(len(Data['raw_spectra'].columns)), index=Data['raw_spectra'].columns)\n",
    "    else: \n",
    "        Data['shifts'].index = pd.Index(filenames)\n",
    "    \n",
    "    Data['reference'] = Data['raw_spectra'].columns[0]\n",
    "    display_shifts_widget.value = pd.DataFrame(Data['shifts'], columns=['shifts']).to_html()\n",
    "    process_plot(Data)\n",
    "    \n",
    "    message = 'Loaded \\n' + '\\n'.join(filenames) + '\\n\\n'\n",
    "    message_widget.value += message\n",
    "\n",
    "load_plot_button.on_click(wrap_load_plot)\n",
    "\n",
    "def process_plot(Data):\n",
    "    \n",
    "    #clear_output()\n",
    "\n",
    "    Data['aligned_spectra'] = process1d.apply_shifts(Data['raw_spectra'].copy(), Data['shifts'])\n",
    "\n",
    "    raw_spectrum, _ = process1d.sum_spectra(Data['aligned_spectra'], Data['shifts'])\n",
    "    Data['calibrated_spectrum'] = process1d.calibrate_spectrum(raw_spectrum.copy(), zero_energy_widget.value, \n",
    "                                                               -1*ee_pix_widget.value)\n",
    "    \n",
    "    #fig = plt.figure(1, figsize=(9,9))\n",
    "    #fig1.clf(); fig2.clf(); fig3.clf(); fig4.clf()\n",
    "    for ax in AXES.values():\n",
    "        ax.cla()\n",
    "    \n",
    "    #ax1 = fig.add_subplot(221)\n",
    "    art1 = process1d.plot_spectra(AXES['ax1'], Data['raw_spectra'], align_min=align_min_widget.value, align_max=align_max_widget.value)\n",
    "    AXES['ax1'].axvline(x=zero_energy_widget.value, linestyle=':', color='k')\n",
    "    AXES['ax1'].set_xlim(plot_range_widget.value[0],plot_range_widget.value[1])\n",
    "    \n",
    "    #ax2 = fig.add_subplot(222)\n",
    "    art2 = process1d.plot_shifts(AXES['ax2'], Data['shifts'])\n",
    "    labels = [item.get_text() for item in ax2.get_xticklabels()]\n",
    "    AXES['ax2'].set_xticklabels(labels, rotation=20)\n",
    "    \n",
    "    #ax3 = fig.add_subplot(223)\n",
    "    art3 = process1d.plot_spectra(AXES['ax3'], Data['aligned_spectra'])\n",
    "    AXES['ax3'].set_xlim(plot_range_widget.value[0],plot_range_widget.value[1])\n",
    "    \n",
    "    #ax4 = fig.add_subplot(224)\n",
    "    art4 = process1d.plot_sum(AXES['ax4'], Data['calibrated_spectrum'])\n",
    "    AXES['ax4'].axvline(0, linestyle=':', color='k')\n",
    "    AXES['ax4'].set_xlim((plot_range_widget.value[1]-zero_energy_widget.value)*(-1)*ee_pix_widget.value,\n",
    "             (plot_range_widget.value[0]-zero_energy_widget.value)*(-1)*ee_pix_widget.value)\n",
    "    \n",
    "    AXES['ax1'].legend_.remove()\n",
    "    AXES['ax3'].legend_.remove()\n",
    "    \n",
    "    AXES.update(OrderedDict(ax1=ax1, ax2=ax2, ax3=ax3, ax4=ax4))\n",
    "\n",
    "def wrap_reset_shifts(change):\n",
    "    Data['shifts'] = pd.Series(data=np.zeros(len(Data['raw_spectra'].columns)), index=Data['raw_spectra'].columns)\n",
    "    display_shifts_widget.value = pd.DataFrame(Data['shifts'], columns=['shifts']).to_html()\n",
    "    process_plot(Data)\n",
    "    \n",
    "    message = \"Shifts are \\n\" + Data['shifts'].to_string() + \"\\n\\n\"\n",
    "    message_widget.value += message\n",
    "\n",
    "reset_shifts_button.on_click(wrap_reset_shifts)\n",
    "\n",
    "align_button = widgets.Button(description = 'Align')\n",
    "\n",
    "def wrap_align(change):\n",
    "\n",
    "    # Align spectra\n",
    "    Data['shifts'] = process1d.get_shifts(Data['raw_spectra'], Data['raw_spectra'][Data['reference']], \n",
    "                                  align_min=align_min_widget.value, align_max=align_max_widget.value, background=0.)\n",
    "    display_shifts_widget.value = pd.DataFrame(Data['shifts'], columns=['shifts']).to_html()\n",
    "    process_plot(Data)\n",
    "    \n",
    "    message = \"Shifts are \\n\" + Data['shifts'].to_string() + \"\\n\"\n",
    "    message_widget.value += message\n",
    "    \n",
    "\n",
    "align_button.on_click(wrap_align)\n",
    "\n",
    "save_data_button = widgets.Button(description = 'Save data')\n",
    "\n",
    "def wrap_fit(change):\n",
    "    \n",
    "    xmin, xmax, ymin, ymax = AXES['ax1'].axis()\n",
    "    spec = Data['raw_spectra'][Data['reference']]\n",
    "    cut_spec = spec[(spec.index >= xmin) & (spec.index <= xmax)]\n",
    "    \n",
    "    Data['fit_result'] = process1d.fit_elastic(cut_spec.index, cut_spec.values, xmin, xmax, ymin, ymax)\n",
    "    \n",
    "    zero_energy_widget.value = Data['fit_result'].best_values['center']\n",
    "    \n",
    "    process_plot(Data)\n",
    "    AXES['ax1'].plot(cut_spec.index, Data['fit_result'].best_fit, 'rx-')\n",
    "    \n",
    "    message = \"Fit result: \\n\"\n",
    "    message += \"\\n\".join([\"{} = {:.4f}\".format(var, val) for var, val in Data['fit_result'].best_values.items()])\n",
    "    message += \"\\n\"\n",
    "    message_widget.value += message\n",
    "\n",
    "fit_button.on_click(wrap_fit)\n",
    "\n",
    "def wrap_save_data(change):\n",
    "    \n",
    "    Data['meta'] += '# Energy per pixel = {:0.1f} meV\\n'.format(ee_pix_widget.value*1000.)\n",
    "    Data['meta'] += '# Zero energy pixel = {:0.2f}\\n'.format(zero_energy_widget.value)\n",
    "    Data['meta'] += '# Align min = {:0.2f}\\n'.format(align_min_widget.value)\n",
    "    Data['meta'] += '# Align max = {:0.2f}\\n'.format(align_max_widget.value)\n",
    "    \n",
    "    process_meta = ''.join('# {}\\t {} \\n'.format(name, shift) \n",
    "                           for name, shift in Data['shifts'].iteritems())\n",
    "\n",
    "        \n",
    "    Data['meta'] += process_meta + '# Energy (eV) Intensity\\n'\n",
    "    \n",
    "    save_filepath = os.path.join(output_folder_widget.value, Data['save_filename'])\n",
    "    process1d.save_spectrum(save_filepath, Data['calibrated_spectrum'], Data['meta'])\n",
    "    message = \"Wrote to {}\".format(save_filepath) + '\\n'\n",
    "    message_widget.value += message\n",
    "\n",
    "save_data_button.on_click(wrap_save_data)"
   ]
  },
  {
   "cell_type": "code",
   "execution_count": 6,
   "metadata": {
    "collapsed": false,
    "deletable": true,
    "editable": true,
    "extensions": {
     "jupyter_dashboards": {
      "version": 1,
      "views": {
       "grid_default": {
        "col": 0,
        "height": 2,
        "hidden": false,
        "row": 29,
        "width": 5
       },
       "report_default": {
        "hidden": false
       }
      }
     }
    }
   },
   "outputs": [
    {
     "data": {
      "application/vnd.jupyter.widget-view+json": {
       "model_id": "60fe3e06bb334f91a1c7d1a24345b8fd"
      }
     },
     "metadata": {},
     "output_type": "display_data"
    }
   ],
   "source": [
    "input_folder_widget\n"
   ]
  },
  {
   "cell_type": "code",
   "execution_count": 7,
   "metadata": {
    "collapsed": false,
    "deletable": true,
    "editable": true,
    "extensions": {
     "jupyter_dashboards": {
      "version": 1,
      "views": {
       "grid_default": {
        "col": 5,
        "height": 2,
        "hidden": false,
        "row": 31,
        "width": 5
       },
       "report_default": {
        "hidden": false
       }
      }
     }
    }
   },
   "outputs": [
    {
     "data": {
      "application/vnd.jupyter.widget-view+json": {
       "model_id": "4ba5f1ba46794b19a4fa124893dcee90"
      }
     },
     "metadata": {},
     "output_type": "display_data"
    }
   ],
   "source": [
    "output_header_widget"
   ]
  },
  {
   "cell_type": "code",
   "execution_count": 8,
   "metadata": {
    "collapsed": false,
    "deletable": true,
    "editable": true,
    "extensions": {
     "jupyter_dashboards": {
      "version": 1,
      "views": {
       "grid_default": {
        "col": 0,
        "height": 2,
        "hidden": false,
        "row": 31,
        "width": 5
       },
       "report_default": {
        "hidden": false
       }
      }
     }
    }
   },
   "outputs": [
    {
     "data": {
      "application/vnd.jupyter.widget-view+json": {
       "model_id": "1382b822f577475e9f6eac002390f842"
      }
     },
     "metadata": {},
     "output_type": "display_data"
    }
   ],
   "source": [
    "output_filename_widget"
   ]
  },
  {
   "cell_type": "code",
   "execution_count": 9,
   "metadata": {
    "collapsed": false,
    "deletable": true,
    "editable": true,
    "extensions": {
     "jupyter_dashboards": {
      "version": 1,
      "views": {
       "grid_default": {
        "col": 0,
        "height": 12,
        "hidden": false,
        "row": 13,
        "width": 2
       },
       "report_default": {
        "hidden": false
       }
      }
     }
    }
   },
   "outputs": [
    {
     "data": {
      "application/vnd.jupyter.widget-view+json": {
       "model_id": "7b019edcc26946b9b29eca37d510b50e"
      }
     },
     "metadata": {},
     "output_type": "display_data"
    }
   ],
   "source": [
    "widgets.VBox([widgets.Label('Scans'), scan_number_widget, \n",
    "              widgets.Label('Zero energy'), zero_energy_widget,\n",
    "              widgets.Label('Align max'), align_max_widget,\n",
    "              widgets.Label('Align min'), align_min_widget])"
   ]
  },
  {
   "cell_type": "code",
   "execution_count": 10,
   "metadata": {
    "collapsed": false,
    "deletable": true,
    "editable": true,
    "extensions": {
     "jupyter_dashboards": {
      "version": 1,
      "views": {
       "grid_default": {
        "col": 5,
        "height": 2,
        "hidden": false,
        "row": 29,
        "width": 5
       },
       "report_default": {
        "hidden": false
       }
      }
     }
    }
   },
   "outputs": [
    {
     "data": {
      "application/vnd.jupyter.widget-view+json": {
       "model_id": "4899da33d1a741a886fccd09e062407b"
      }
     },
     "metadata": {},
     "output_type": "display_data"
    }
   ],
   "source": [
    "ee_pix_widget"
   ]
  },
  {
   "cell_type": "code",
   "execution_count": 11,
   "metadata": {
    "collapsed": false,
    "deletable": true,
    "editable": true,
    "extensions": {
     "jupyter_dashboards": {
      "version": 1,
      "views": {
       "grid_default": {
        "col": 0,
        "height": 2,
        "hidden": false,
        "row": 27,
        "width": 10
       },
       "report_default": {
        "hidden": false
       }
      }
     }
    }
   },
   "outputs": [
    {
     "data": {
      "application/vnd.jupyter.widget-view+json": {
       "model_id": "290184003c57412b94eba779812f08de"
      }
     },
     "metadata": {},
     "output_type": "display_data"
    }
   ],
   "source": [
    "plot_range_widget"
   ]
  },
  {
   "cell_type": "code",
   "execution_count": 12,
   "metadata": {
    "collapsed": false,
    "deletable": true,
    "editable": true,
    "extensions": {
     "jupyter_dashboards": {
      "version": 1,
      "views": {
       "grid_default": {
        "col": 0,
        "height": 10,
        "hidden": false,
        "row": 3,
        "width": 2
       },
       "report_default": {
        "hidden": false
       }
      }
     }
    },
    "scrolled": false
   },
   "outputs": [
    {
     "data": {
      "application/vnd.jupyter.widget-view+json": {
       "model_id": "ad966f3fa1f94fe4aed287ed03c7e7f8"
      }
     },
     "metadata": {},
     "output_type": "display_data"
    }
   ],
   "source": [
    "#display(widgets.HBox((, , )))\n",
    "#display(widgets.HBox((,)))\n",
    "#display(widgets.HBox((,,)))\n",
    "#display(widgets.HBox((,)))\n",
    "display(widgets.VBox((load_plot_button, reset_shifts_button, fit_button, align_button, save_data_button)))"
   ]
  },
  {
   "cell_type": "code",
   "execution_count": 13,
   "metadata": {
    "collapsed": false,
    "deletable": true,
    "editable": true,
    "extensions": {
     "jupyter_dashboards": {
      "version": 1,
      "views": {
       "grid_default": {
        "col": 2,
        "height": 13,
        "hidden": false,
        "row": 0,
        "width": 4
       },
       "report_default": {
        "hidden": false
       }
      }
     }
    }
   },
   "outputs": [
    {
     "data": {
      "application/javascript": [
       "/* Put everything inside the global mpl namespace */\n",
       "window.mpl = {};\n",
       "\n",
       "\n",
       "mpl.get_websocket_type = function() {\n",
       "    if (typeof(WebSocket) !== 'undefined') {\n",
       "        return WebSocket;\n",
       "    } else if (typeof(MozWebSocket) !== 'undefined') {\n",
       "        return MozWebSocket;\n",
       "    } else {\n",
       "        alert('Your browser does not have WebSocket support.' +\n",
       "              'Please try Chrome, Safari or Firefox ≥ 6. ' +\n",
       "              'Firefox 4 and 5 are also supported but you ' +\n",
       "              'have to enable WebSockets in about:config.');\n",
       "    };\n",
       "}\n",
       "\n",
       "mpl.figure = function(figure_id, websocket, ondownload, parent_element) {\n",
       "    this.id = figure_id;\n",
       "\n",
       "    this.ws = websocket;\n",
       "\n",
       "    this.supports_binary = (this.ws.binaryType != undefined);\n",
       "\n",
       "    if (!this.supports_binary) {\n",
       "        var warnings = document.getElementById(\"mpl-warnings\");\n",
       "        if (warnings) {\n",
       "            warnings.style.display = 'block';\n",
       "            warnings.textContent = (\n",
       "                \"This browser does not support binary websocket messages. \" +\n",
       "                    \"Performance may be slow.\");\n",
       "        }\n",
       "    }\n",
       "\n",
       "    this.imageObj = new Image();\n",
       "\n",
       "    this.context = undefined;\n",
       "    this.message = undefined;\n",
       "    this.canvas = undefined;\n",
       "    this.rubberband_canvas = undefined;\n",
       "    this.rubberband_context = undefined;\n",
       "    this.format_dropdown = undefined;\n",
       "\n",
       "    this.image_mode = 'full';\n",
       "\n",
       "    this.root = $('<div/>');\n",
       "    this._root_extra_style(this.root)\n",
       "    this.root.attr('style', 'display: inline-block');\n",
       "\n",
       "    $(parent_element).append(this.root);\n",
       "\n",
       "    this._init_header(this);\n",
       "    this._init_canvas(this);\n",
       "    this._init_toolbar(this);\n",
       "\n",
       "    var fig = this;\n",
       "\n",
       "    this.waiting = false;\n",
       "\n",
       "    this.ws.onopen =  function () {\n",
       "            fig.send_message(\"supports_binary\", {value: fig.supports_binary});\n",
       "            fig.send_message(\"send_image_mode\", {});\n",
       "            if (mpl.ratio != 1) {\n",
       "                fig.send_message(\"set_dpi_ratio\", {'dpi_ratio': mpl.ratio});\n",
       "            }\n",
       "            fig.send_message(\"refresh\", {});\n",
       "        }\n",
       "\n",
       "    this.imageObj.onload = function() {\n",
       "            if (fig.image_mode == 'full') {\n",
       "                // Full images could contain transparency (where diff images\n",
       "                // almost always do), so we need to clear the canvas so that\n",
       "                // there is no ghosting.\n",
       "                fig.context.clearRect(0, 0, fig.canvas.width, fig.canvas.height);\n",
       "            }\n",
       "            fig.context.drawImage(fig.imageObj, 0, 0);\n",
       "        };\n",
       "\n",
       "    this.imageObj.onunload = function() {\n",
       "        this.ws.close();\n",
       "    }\n",
       "\n",
       "    this.ws.onmessage = this._make_on_message_function(this);\n",
       "\n",
       "    this.ondownload = ondownload;\n",
       "}\n",
       "\n",
       "mpl.figure.prototype._init_header = function() {\n",
       "    var titlebar = $(\n",
       "        '<div class=\"ui-dialog-titlebar ui-widget-header ui-corner-all ' +\n",
       "        'ui-helper-clearfix\"/>');\n",
       "    var titletext = $(\n",
       "        '<div class=\"ui-dialog-title\" style=\"width: 100%; ' +\n",
       "        'text-align: center; padding: 3px;\"/>');\n",
       "    titlebar.append(titletext)\n",
       "    this.root.append(titlebar);\n",
       "    this.header = titletext[0];\n",
       "}\n",
       "\n",
       "\n",
       "\n",
       "mpl.figure.prototype._canvas_extra_style = function(canvas_div) {\n",
       "\n",
       "}\n",
       "\n",
       "\n",
       "mpl.figure.prototype._root_extra_style = function(canvas_div) {\n",
       "\n",
       "}\n",
       "\n",
       "mpl.figure.prototype._init_canvas = function() {\n",
       "    var fig = this;\n",
       "\n",
       "    var canvas_div = $('<div/>');\n",
       "\n",
       "    canvas_div.attr('style', 'position: relative; clear: both; outline: 0');\n",
       "\n",
       "    function canvas_keyboard_event(event) {\n",
       "        return fig.key_event(event, event['data']);\n",
       "    }\n",
       "\n",
       "    canvas_div.keydown('key_press', canvas_keyboard_event);\n",
       "    canvas_div.keyup('key_release', canvas_keyboard_event);\n",
       "    this.canvas_div = canvas_div\n",
       "    this._canvas_extra_style(canvas_div)\n",
       "    this.root.append(canvas_div);\n",
       "\n",
       "    var canvas = $('<canvas/>');\n",
       "    canvas.addClass('mpl-canvas');\n",
       "    canvas.attr('style', \"left: 0; top: 0; z-index: 0; outline: 0\")\n",
       "\n",
       "    this.canvas = canvas[0];\n",
       "    this.context = canvas[0].getContext(\"2d\");\n",
       "\n",
       "    var backingStore = this.context.backingStorePixelRatio ||\n",
       "\tthis.context.webkitBackingStorePixelRatio ||\n",
       "\tthis.context.mozBackingStorePixelRatio ||\n",
       "\tthis.context.msBackingStorePixelRatio ||\n",
       "\tthis.context.oBackingStorePixelRatio ||\n",
       "\tthis.context.backingStorePixelRatio || 1;\n",
       "\n",
       "    mpl.ratio = (window.devicePixelRatio || 1) / backingStore;\n",
       "\n",
       "    var rubberband = $('<canvas/>');\n",
       "    rubberband.attr('style', \"position: absolute; left: 0; top: 0; z-index: 1;\")\n",
       "\n",
       "    var pass_mouse_events = true;\n",
       "\n",
       "    canvas_div.resizable({\n",
       "        start: function(event, ui) {\n",
       "            pass_mouse_events = false;\n",
       "        },\n",
       "        resize: function(event, ui) {\n",
       "            fig.request_resize(ui.size.width, ui.size.height);\n",
       "        },\n",
       "        stop: function(event, ui) {\n",
       "            pass_mouse_events = true;\n",
       "            fig.request_resize(ui.size.width, ui.size.height);\n",
       "        },\n",
       "    });\n",
       "\n",
       "    function mouse_event_fn(event) {\n",
       "        if (pass_mouse_events)\n",
       "            return fig.mouse_event(event, event['data']);\n",
       "    }\n",
       "\n",
       "    rubberband.mousedown('button_press', mouse_event_fn);\n",
       "    rubberband.mouseup('button_release', mouse_event_fn);\n",
       "    // Throttle sequential mouse events to 1 every 20ms.\n",
       "    rubberband.mousemove('motion_notify', mouse_event_fn);\n",
       "\n",
       "    rubberband.mouseenter('figure_enter', mouse_event_fn);\n",
       "    rubberband.mouseleave('figure_leave', mouse_event_fn);\n",
       "\n",
       "    canvas_div.on(\"wheel\", function (event) {\n",
       "        event = event.originalEvent;\n",
       "        event['data'] = 'scroll'\n",
       "        if (event.deltaY < 0) {\n",
       "            event.step = 1;\n",
       "        } else {\n",
       "            event.step = -1;\n",
       "        }\n",
       "        mouse_event_fn(event);\n",
       "    });\n",
       "\n",
       "    canvas_div.append(canvas);\n",
       "    canvas_div.append(rubberband);\n",
       "\n",
       "    this.rubberband = rubberband;\n",
       "    this.rubberband_canvas = rubberband[0];\n",
       "    this.rubberband_context = rubberband[0].getContext(\"2d\");\n",
       "    this.rubberband_context.strokeStyle = \"#000000\";\n",
       "\n",
       "    this._resize_canvas = function(width, height) {\n",
       "        // Keep the size of the canvas, canvas container, and rubber band\n",
       "        // canvas in synch.\n",
       "        canvas_div.css('width', width)\n",
       "        canvas_div.css('height', height)\n",
       "\n",
       "        canvas.attr('width', width * mpl.ratio);\n",
       "        canvas.attr('height', height * mpl.ratio);\n",
       "        canvas.attr('style', 'width: ' + width + 'px; height: ' + height + 'px;');\n",
       "\n",
       "        rubberband.attr('width', width);\n",
       "        rubberband.attr('height', height);\n",
       "    }\n",
       "\n",
       "    // Set the figure to an initial 600x600px, this will subsequently be updated\n",
       "    // upon first draw.\n",
       "    this._resize_canvas(600, 600);\n",
       "\n",
       "    // Disable right mouse context menu.\n",
       "    $(this.rubberband_canvas).bind(\"contextmenu\",function(e){\n",
       "        return false;\n",
       "    });\n",
       "\n",
       "    function set_focus () {\n",
       "        canvas.focus();\n",
       "        canvas_div.focus();\n",
       "    }\n",
       "\n",
       "    window.setTimeout(set_focus, 100);\n",
       "}\n",
       "\n",
       "mpl.figure.prototype._init_toolbar = function() {\n",
       "    var fig = this;\n",
       "\n",
       "    var nav_element = $('<div/>')\n",
       "    nav_element.attr('style', 'width: 100%');\n",
       "    this.root.append(nav_element);\n",
       "\n",
       "    // Define a callback function for later on.\n",
       "    function toolbar_event(event) {\n",
       "        return fig.toolbar_button_onclick(event['data']);\n",
       "    }\n",
       "    function toolbar_mouse_event(event) {\n",
       "        return fig.toolbar_button_onmouseover(event['data']);\n",
       "    }\n",
       "\n",
       "    for(var toolbar_ind in mpl.toolbar_items) {\n",
       "        var name = mpl.toolbar_items[toolbar_ind][0];\n",
       "        var tooltip = mpl.toolbar_items[toolbar_ind][1];\n",
       "        var image = mpl.toolbar_items[toolbar_ind][2];\n",
       "        var method_name = mpl.toolbar_items[toolbar_ind][3];\n",
       "\n",
       "        if (!name) {\n",
       "            // put a spacer in here.\n",
       "            continue;\n",
       "        }\n",
       "        var button = $('<button/>');\n",
       "        button.addClass('ui-button ui-widget ui-state-default ui-corner-all ' +\n",
       "                        'ui-button-icon-only');\n",
       "        button.attr('role', 'button');\n",
       "        button.attr('aria-disabled', 'false');\n",
       "        button.click(method_name, toolbar_event);\n",
       "        button.mouseover(tooltip, toolbar_mouse_event);\n",
       "\n",
       "        var icon_img = $('<span/>');\n",
       "        icon_img.addClass('ui-button-icon-primary ui-icon');\n",
       "        icon_img.addClass(image);\n",
       "        icon_img.addClass('ui-corner-all');\n",
       "\n",
       "        var tooltip_span = $('<span/>');\n",
       "        tooltip_span.addClass('ui-button-text');\n",
       "        tooltip_span.html(tooltip);\n",
       "\n",
       "        button.append(icon_img);\n",
       "        button.append(tooltip_span);\n",
       "\n",
       "        nav_element.append(button);\n",
       "    }\n",
       "\n",
       "    var fmt_picker_span = $('<span/>');\n",
       "\n",
       "    var fmt_picker = $('<select/>');\n",
       "    fmt_picker.addClass('mpl-toolbar-option ui-widget ui-widget-content');\n",
       "    fmt_picker_span.append(fmt_picker);\n",
       "    nav_element.append(fmt_picker_span);\n",
       "    this.format_dropdown = fmt_picker[0];\n",
       "\n",
       "    for (var ind in mpl.extensions) {\n",
       "        var fmt = mpl.extensions[ind];\n",
       "        var option = $(\n",
       "            '<option/>', {selected: fmt === mpl.default_extension}).html(fmt);\n",
       "        fmt_picker.append(option)\n",
       "    }\n",
       "\n",
       "    // Add hover states to the ui-buttons\n",
       "    $( \".ui-button\" ).hover(\n",
       "        function() { $(this).addClass(\"ui-state-hover\");},\n",
       "        function() { $(this).removeClass(\"ui-state-hover\");}\n",
       "    );\n",
       "\n",
       "    var status_bar = $('<span class=\"mpl-message\"/>');\n",
       "    nav_element.append(status_bar);\n",
       "    this.message = status_bar[0];\n",
       "}\n",
       "\n",
       "mpl.figure.prototype.request_resize = function(x_pixels, y_pixels) {\n",
       "    // Request matplotlib to resize the figure. Matplotlib will then trigger a resize in the client,\n",
       "    // which will in turn request a refresh of the image.\n",
       "    this.send_message('resize', {'width': x_pixels, 'height': y_pixels});\n",
       "}\n",
       "\n",
       "mpl.figure.prototype.send_message = function(type, properties) {\n",
       "    properties['type'] = type;\n",
       "    properties['figure_id'] = this.id;\n",
       "    this.ws.send(JSON.stringify(properties));\n",
       "}\n",
       "\n",
       "mpl.figure.prototype.send_draw_message = function() {\n",
       "    if (!this.waiting) {\n",
       "        this.waiting = true;\n",
       "        this.ws.send(JSON.stringify({type: \"draw\", figure_id: this.id}));\n",
       "    }\n",
       "}\n",
       "\n",
       "\n",
       "mpl.figure.prototype.handle_save = function(fig, msg) {\n",
       "    var format_dropdown = fig.format_dropdown;\n",
       "    var format = format_dropdown.options[format_dropdown.selectedIndex].value;\n",
       "    fig.ondownload(fig, format);\n",
       "}\n",
       "\n",
       "\n",
       "mpl.figure.prototype.handle_resize = function(fig, msg) {\n",
       "    var size = msg['size'];\n",
       "    if (size[0] != fig.canvas.width || size[1] != fig.canvas.height) {\n",
       "        fig._resize_canvas(size[0], size[1]);\n",
       "        fig.send_message(\"refresh\", {});\n",
       "    };\n",
       "}\n",
       "\n",
       "mpl.figure.prototype.handle_rubberband = function(fig, msg) {\n",
       "    var x0 = msg['x0'] / mpl.ratio;\n",
       "    var y0 = (fig.canvas.height - msg['y0']) / mpl.ratio;\n",
       "    var x1 = msg['x1'] / mpl.ratio;\n",
       "    var y1 = (fig.canvas.height - msg['y1']) / mpl.ratio;\n",
       "    x0 = Math.floor(x0) + 0.5;\n",
       "    y0 = Math.floor(y0) + 0.5;\n",
       "    x1 = Math.floor(x1) + 0.5;\n",
       "    y1 = Math.floor(y1) + 0.5;\n",
       "    var min_x = Math.min(x0, x1);\n",
       "    var min_y = Math.min(y0, y1);\n",
       "    var width = Math.abs(x1 - x0);\n",
       "    var height = Math.abs(y1 - y0);\n",
       "\n",
       "    fig.rubberband_context.clearRect(\n",
       "        0, 0, fig.canvas.width, fig.canvas.height);\n",
       "\n",
       "    fig.rubberband_context.strokeRect(min_x, min_y, width, height);\n",
       "}\n",
       "\n",
       "mpl.figure.prototype.handle_figure_label = function(fig, msg) {\n",
       "    // Updates the figure title.\n",
       "    fig.header.textContent = msg['label'];\n",
       "}\n",
       "\n",
       "mpl.figure.prototype.handle_cursor = function(fig, msg) {\n",
       "    var cursor = msg['cursor'];\n",
       "    switch(cursor)\n",
       "    {\n",
       "    case 0:\n",
       "        cursor = 'pointer';\n",
       "        break;\n",
       "    case 1:\n",
       "        cursor = 'default';\n",
       "        break;\n",
       "    case 2:\n",
       "        cursor = 'crosshair';\n",
       "        break;\n",
       "    case 3:\n",
       "        cursor = 'move';\n",
       "        break;\n",
       "    }\n",
       "    fig.rubberband_canvas.style.cursor = cursor;\n",
       "}\n",
       "\n",
       "mpl.figure.prototype.handle_message = function(fig, msg) {\n",
       "    fig.message.textContent = msg['message'];\n",
       "}\n",
       "\n",
       "mpl.figure.prototype.handle_draw = function(fig, msg) {\n",
       "    // Request the server to send over a new figure.\n",
       "    fig.send_draw_message();\n",
       "}\n",
       "\n",
       "mpl.figure.prototype.handle_image_mode = function(fig, msg) {\n",
       "    fig.image_mode = msg['mode'];\n",
       "}\n",
       "\n",
       "mpl.figure.prototype.updated_canvas_event = function() {\n",
       "    // Called whenever the canvas gets updated.\n",
       "    this.send_message(\"ack\", {});\n",
       "}\n",
       "\n",
       "// A function to construct a web socket function for onmessage handling.\n",
       "// Called in the figure constructor.\n",
       "mpl.figure.prototype._make_on_message_function = function(fig) {\n",
       "    return function socket_on_message(evt) {\n",
       "        if (evt.data instanceof Blob) {\n",
       "            /* FIXME: We get \"Resource interpreted as Image but\n",
       "             * transferred with MIME type text/plain:\" errors on\n",
       "             * Chrome.  But how to set the MIME type?  It doesn't seem\n",
       "             * to be part of the websocket stream */\n",
       "            evt.data.type = \"image/png\";\n",
       "\n",
       "            /* Free the memory for the previous frames */\n",
       "            if (fig.imageObj.src) {\n",
       "                (window.URL || window.webkitURL).revokeObjectURL(\n",
       "                    fig.imageObj.src);\n",
       "            }\n",
       "\n",
       "            fig.imageObj.src = (window.URL || window.webkitURL).createObjectURL(\n",
       "                evt.data);\n",
       "            fig.updated_canvas_event();\n",
       "            fig.waiting = false;\n",
       "            return;\n",
       "        }\n",
       "        else if (typeof evt.data === 'string' && evt.data.slice(0, 21) == \"data:image/png;base64\") {\n",
       "            fig.imageObj.src = evt.data;\n",
       "            fig.updated_canvas_event();\n",
       "            fig.waiting = false;\n",
       "            return;\n",
       "        }\n",
       "\n",
       "        var msg = JSON.parse(evt.data);\n",
       "        var msg_type = msg['type'];\n",
       "\n",
       "        // Call the  \"handle_{type}\" callback, which takes\n",
       "        // the figure and JSON message as its only arguments.\n",
       "        try {\n",
       "            var callback = fig[\"handle_\" + msg_type];\n",
       "        } catch (e) {\n",
       "            console.log(\"No handler for the '\" + msg_type + \"' message type: \", msg);\n",
       "            return;\n",
       "        }\n",
       "\n",
       "        if (callback) {\n",
       "            try {\n",
       "                // console.log(\"Handling '\" + msg_type + \"' message: \", msg);\n",
       "                callback(fig, msg);\n",
       "            } catch (e) {\n",
       "                console.log(\"Exception inside the 'handler_\" + msg_type + \"' callback:\", e, e.stack, msg);\n",
       "            }\n",
       "        }\n",
       "    };\n",
       "}\n",
       "\n",
       "// from http://stackoverflow.com/questions/1114465/getting-mouse-location-in-canvas\n",
       "mpl.findpos = function(e) {\n",
       "    //this section is from http://www.quirksmode.org/js/events_properties.html\n",
       "    var targ;\n",
       "    if (!e)\n",
       "        e = window.event;\n",
       "    if (e.target)\n",
       "        targ = e.target;\n",
       "    else if (e.srcElement)\n",
       "        targ = e.srcElement;\n",
       "    if (targ.nodeType == 3) // defeat Safari bug\n",
       "        targ = targ.parentNode;\n",
       "\n",
       "    // jQuery normalizes the pageX and pageY\n",
       "    // pageX,Y are the mouse positions relative to the document\n",
       "    // offset() returns the position of the element relative to the document\n",
       "    var x = e.pageX - $(targ).offset().left;\n",
       "    var y = e.pageY - $(targ).offset().top;\n",
       "\n",
       "    return {\"x\": x, \"y\": y};\n",
       "};\n",
       "\n",
       "/*\n",
       " * return a copy of an object with only non-object keys\n",
       " * we need this to avoid circular references\n",
       " * http://stackoverflow.com/a/24161582/3208463\n",
       " */\n",
       "function simpleKeys (original) {\n",
       "  return Object.keys(original).reduce(function (obj, key) {\n",
       "    if (typeof original[key] !== 'object')\n",
       "        obj[key] = original[key]\n",
       "    return obj;\n",
       "  }, {});\n",
       "}\n",
       "\n",
       "mpl.figure.prototype.mouse_event = function(event, name) {\n",
       "    var canvas_pos = mpl.findpos(event)\n",
       "\n",
       "    if (name === 'button_press')\n",
       "    {\n",
       "        this.canvas.focus();\n",
       "        this.canvas_div.focus();\n",
       "    }\n",
       "\n",
       "    var x = canvas_pos.x * mpl.ratio;\n",
       "    var y = canvas_pos.y * mpl.ratio;\n",
       "\n",
       "    this.send_message(name, {x: x, y: y, button: event.button,\n",
       "                             step: event.step,\n",
       "                             guiEvent: simpleKeys(event)});\n",
       "\n",
       "    /* This prevents the web browser from automatically changing to\n",
       "     * the text insertion cursor when the button is pressed.  We want\n",
       "     * to control all of the cursor setting manually through the\n",
       "     * 'cursor' event from matplotlib */\n",
       "    event.preventDefault();\n",
       "    return false;\n",
       "}\n",
       "\n",
       "mpl.figure.prototype._key_event_extra = function(event, name) {\n",
       "    // Handle any extra behaviour associated with a key event\n",
       "}\n",
       "\n",
       "mpl.figure.prototype.key_event = function(event, name) {\n",
       "\n",
       "    // Prevent repeat events\n",
       "    if (name == 'key_press')\n",
       "    {\n",
       "        if (event.which === this._key)\n",
       "            return;\n",
       "        else\n",
       "            this._key = event.which;\n",
       "    }\n",
       "    if (name == 'key_release')\n",
       "        this._key = null;\n",
       "\n",
       "    var value = '';\n",
       "    if (event.ctrlKey && event.which != 17)\n",
       "        value += \"ctrl+\";\n",
       "    if (event.altKey && event.which != 18)\n",
       "        value += \"alt+\";\n",
       "    if (event.shiftKey && event.which != 16)\n",
       "        value += \"shift+\";\n",
       "\n",
       "    value += 'k';\n",
       "    value += event.which.toString();\n",
       "\n",
       "    this._key_event_extra(event, name);\n",
       "\n",
       "    this.send_message(name, {key: value,\n",
       "                             guiEvent: simpleKeys(event)});\n",
       "    return false;\n",
       "}\n",
       "\n",
       "mpl.figure.prototype.toolbar_button_onclick = function(name) {\n",
       "    if (name == 'download') {\n",
       "        this.handle_save(this, null);\n",
       "    } else {\n",
       "        this.send_message(\"toolbar_button\", {name: name});\n",
       "    }\n",
       "};\n",
       "\n",
       "mpl.figure.prototype.toolbar_button_onmouseover = function(tooltip) {\n",
       "    this.message.textContent = tooltip;\n",
       "};\n",
       "mpl.toolbar_items = [[\"Home\", \"Reset original view\", \"fa fa-home icon-home\", \"home\"], [\"Back\", \"Back to  previous view\", \"fa fa-arrow-left icon-arrow-left\", \"back\"], [\"Forward\", \"Forward to next view\", \"fa fa-arrow-right icon-arrow-right\", \"forward\"], [\"\", \"\", \"\", \"\"], [\"Pan\", \"Pan axes with left mouse, zoom with right\", \"fa fa-arrows icon-move\", \"pan\"], [\"Zoom\", \"Zoom to rectangle\", \"fa fa-square-o icon-check-empty\", \"zoom\"], [\"\", \"\", \"\", \"\"], [\"Download\", \"Download plot\", \"fa fa-floppy-o icon-save\", \"download\"]];\n",
       "\n",
       "mpl.extensions = [\"eps\", \"jpeg\", \"pdf\", \"png\", \"ps\", \"raw\", \"svg\", \"tif\"];\n",
       "\n",
       "mpl.default_extension = \"png\";var comm_websocket_adapter = function(comm) {\n",
       "    // Create a \"websocket\"-like object which calls the given IPython comm\n",
       "    // object with the appropriate methods. Currently this is a non binary\n",
       "    // socket, so there is still some room for performance tuning.\n",
       "    var ws = {};\n",
       "\n",
       "    ws.close = function() {\n",
       "        comm.close()\n",
       "    };\n",
       "    ws.send = function(m) {\n",
       "        //console.log('sending', m);\n",
       "        comm.send(m);\n",
       "    };\n",
       "    // Register the callback with on_msg.\n",
       "    comm.on_msg(function(msg) {\n",
       "        //console.log('receiving', msg['content']['data'], msg);\n",
       "        // Pass the mpl event to the overriden (by mpl) onmessage function.\n",
       "        ws.onmessage(msg['content']['data'])\n",
       "    });\n",
       "    return ws;\n",
       "}\n",
       "\n",
       "mpl.mpl_figure_comm = function(comm, msg) {\n",
       "    // This is the function which gets called when the mpl process\n",
       "    // starts-up an IPython Comm through the \"matplotlib\" channel.\n",
       "\n",
       "    var id = msg.content.data.id;\n",
       "    // Get hold of the div created by the display call when the Comm\n",
       "    // socket was opened in Python.\n",
       "    var element = $(\"#\" + id);\n",
       "    var ws_proxy = comm_websocket_adapter(comm)\n",
       "\n",
       "    function ondownload(figure, format) {\n",
       "        window.open(figure.imageObj.src);\n",
       "    }\n",
       "\n",
       "    var fig = new mpl.figure(id, ws_proxy,\n",
       "                           ondownload,\n",
       "                           element.get(0));\n",
       "\n",
       "    // Call onopen now - mpl needs it, as it is assuming we've passed it a real\n",
       "    // web socket which is closed, not our websocket->open comm proxy.\n",
       "    ws_proxy.onopen();\n",
       "\n",
       "    fig.parent_element = element.get(0);\n",
       "    fig.cell_info = mpl.find_output_cell(\"<div id='\" + id + \"'></div>\");\n",
       "    if (!fig.cell_info) {\n",
       "        console.error(\"Failed to find cell for figure\", id, fig);\n",
       "        return;\n",
       "    }\n",
       "\n",
       "    var output_index = fig.cell_info[2]\n",
       "    var cell = fig.cell_info[0];\n",
       "\n",
       "};\n",
       "\n",
       "mpl.figure.prototype.handle_close = function(fig, msg) {\n",
       "    var width = fig.canvas.width/mpl.ratio\n",
       "    fig.root.unbind('remove')\n",
       "\n",
       "    // Update the output cell to use the data from the current canvas.\n",
       "    fig.push_to_output();\n",
       "    var dataURL = fig.canvas.toDataURL();\n",
       "    // Re-enable the keyboard manager in IPython - without this line, in FF,\n",
       "    // the notebook keyboard shortcuts fail.\n",
       "    IPython.keyboard_manager.enable()\n",
       "    $(fig.parent_element).html('<img src=\"' + dataURL + '\" width=\"' + width + '\">');\n",
       "    fig.close_ws(fig, msg);\n",
       "}\n",
       "\n",
       "mpl.figure.prototype.close_ws = function(fig, msg){\n",
       "    fig.send_message('closing', msg);\n",
       "    // fig.ws.close()\n",
       "}\n",
       "\n",
       "mpl.figure.prototype.push_to_output = function(remove_interactive) {\n",
       "    // Turn the data on the canvas into data in the output cell.\n",
       "    var width = this.canvas.width/mpl.ratio\n",
       "    var dataURL = this.canvas.toDataURL();\n",
       "    this.cell_info[1]['text/html'] = '<img src=\"' + dataURL + '\" width=\"' + width + '\">';\n",
       "}\n",
       "\n",
       "mpl.figure.prototype.updated_canvas_event = function() {\n",
       "    // Tell IPython that the notebook contents must change.\n",
       "    IPython.notebook.set_dirty(true);\n",
       "    this.send_message(\"ack\", {});\n",
       "    var fig = this;\n",
       "    // Wait a second, then push the new image to the DOM so\n",
       "    // that it is saved nicely (might be nice to debounce this).\n",
       "    setTimeout(function () { fig.push_to_output() }, 1000);\n",
       "}\n",
       "\n",
       "mpl.figure.prototype._init_toolbar = function() {\n",
       "    var fig = this;\n",
       "\n",
       "    var nav_element = $('<div/>')\n",
       "    nav_element.attr('style', 'width: 100%');\n",
       "    this.root.append(nav_element);\n",
       "\n",
       "    // Define a callback function for later on.\n",
       "    function toolbar_event(event) {\n",
       "        return fig.toolbar_button_onclick(event['data']);\n",
       "    }\n",
       "    function toolbar_mouse_event(event) {\n",
       "        return fig.toolbar_button_onmouseover(event['data']);\n",
       "    }\n",
       "\n",
       "    for(var toolbar_ind in mpl.toolbar_items){\n",
       "        var name = mpl.toolbar_items[toolbar_ind][0];\n",
       "        var tooltip = mpl.toolbar_items[toolbar_ind][1];\n",
       "        var image = mpl.toolbar_items[toolbar_ind][2];\n",
       "        var method_name = mpl.toolbar_items[toolbar_ind][3];\n",
       "\n",
       "        if (!name) { continue; };\n",
       "\n",
       "        var button = $('<button class=\"btn btn-default\" href=\"#\" title=\"' + name + '\"><i class=\"fa ' + image + ' fa-lg\"></i></button>');\n",
       "        button.click(method_name, toolbar_event);\n",
       "        button.mouseover(tooltip, toolbar_mouse_event);\n",
       "        nav_element.append(button);\n",
       "    }\n",
       "\n",
       "    // Add the status bar.\n",
       "    var status_bar = $('<span class=\"mpl-message\" style=\"text-align:right; float: right;\"/>');\n",
       "    nav_element.append(status_bar);\n",
       "    this.message = status_bar[0];\n",
       "\n",
       "    // Add the close button to the window.\n",
       "    var buttongrp = $('<div class=\"btn-group inline pull-right\"></div>');\n",
       "    var button = $('<button class=\"btn btn-mini btn-primary\" href=\"#\" title=\"Stop Interaction\"><i class=\"fa fa-power-off icon-remove icon-large\"></i></button>');\n",
       "    button.click(function (evt) { fig.handle_close(fig, {}); } );\n",
       "    button.mouseover('Stop Interaction', toolbar_mouse_event);\n",
       "    buttongrp.append(button);\n",
       "    var titlebar = this.root.find($('.ui-dialog-titlebar'));\n",
       "    titlebar.prepend(buttongrp);\n",
       "}\n",
       "\n",
       "mpl.figure.prototype._root_extra_style = function(el){\n",
       "    var fig = this\n",
       "    el.on(\"remove\", function(){\n",
       "\tfig.close_ws(fig, {});\n",
       "    });\n",
       "}\n",
       "\n",
       "mpl.figure.prototype._canvas_extra_style = function(el){\n",
       "    // this is important to make the div 'focusable\n",
       "    el.attr('tabindex', 0)\n",
       "    // reach out to IPython and tell the keyboard manager to turn it's self\n",
       "    // off when our div gets focus\n",
       "\n",
       "    // location in version 3\n",
       "    if (IPython.notebook.keyboard_manager) {\n",
       "        IPython.notebook.keyboard_manager.register_events(el);\n",
       "    }\n",
       "    else {\n",
       "        // location in version 2\n",
       "        IPython.keyboard_manager.register_events(el);\n",
       "    }\n",
       "\n",
       "}\n",
       "\n",
       "mpl.figure.prototype._key_event_extra = function(event, name) {\n",
       "    var manager = IPython.notebook.keyboard_manager;\n",
       "    if (!manager)\n",
       "        manager = IPython.keyboard_manager;\n",
       "\n",
       "    // Check for shift+enter\n",
       "    if (event.shiftKey && event.which == 13) {\n",
       "        this.canvas_div.blur();\n",
       "        // select the cell after this one\n",
       "        var index = IPython.notebook.find_cell_index(this.cell_info[0]);\n",
       "        IPython.notebook.select(index + 1);\n",
       "    }\n",
       "}\n",
       "\n",
       "mpl.figure.prototype.handle_save = function(fig, msg) {\n",
       "    fig.ondownload(fig, null);\n",
       "}\n",
       "\n",
       "\n",
       "mpl.find_output_cell = function(html_output) {\n",
       "    // Return the cell and output element which can be found *uniquely* in the notebook.\n",
       "    // Note - this is a bit hacky, but it is done because the \"notebook_saving.Notebook\"\n",
       "    // IPython event is triggered only after the cells have been serialised, which for\n",
       "    // our purposes (turning an active figure into a static one), is too late.\n",
       "    var cells = IPython.notebook.get_cells();\n",
       "    var ncells = cells.length;\n",
       "    for (var i=0; i<ncells; i++) {\n",
       "        var cell = cells[i];\n",
       "        if (cell.cell_type === 'code'){\n",
       "            for (var j=0; j<cell.output_area.outputs.length; j++) {\n",
       "                var data = cell.output_area.outputs[j];\n",
       "                if (data.data) {\n",
       "                    // IPython >= 3 moved mimebundle to data attribute of output\n",
       "                    data = data.data;\n",
       "                }\n",
       "                if (data['text/html'] == html_output) {\n",
       "                    return [cell, data, j];\n",
       "                }\n",
       "            }\n",
       "        }\n",
       "    }\n",
       "}\n",
       "\n",
       "// Register the function which deals with the matplotlib target/channel.\n",
       "// The kernel may be null if the page has been refreshed.\n",
       "if (IPython.notebook.kernel != null) {\n",
       "    IPython.notebook.kernel.comm_manager.register_target('matplotlib', mpl.mpl_figure_comm);\n",
       "}\n"
      ],
      "text/plain": [
       "<IPython.core.display.Javascript object>"
      ]
     },
     "metadata": {},
     "output_type": "display_data"
    },
    {
     "data": {
      "text/html": [
       "<img src=\"data:image/png;base64,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\" width=\"350\">"
      ],
      "text/plain": [
       "<IPython.core.display.HTML object>"
      ]
     },
     "metadata": {},
     "output_type": "display_data"
    }
   ],
   "source": [
    "fig1, ax1 = plt.subplots(figsize=figsize)"
   ]
  },
  {
   "cell_type": "code",
   "execution_count": 14,
   "metadata": {
    "collapsed": false,
    "deletable": true,
    "editable": true,
    "extensions": {
     "jupyter_dashboards": {
      "version": 1,
      "views": {
       "grid_default": {
        "col": 6,
        "height": 13,
        "hidden": false,
        "row": 0,
        "width": 4
       },
       "report_default": {
        "hidden": false
       }
      }
     }
    }
   },
   "outputs": [
    {
     "data": {
      "application/javascript": [
       "/* Put everything inside the global mpl namespace */\n",
       "window.mpl = {};\n",
       "\n",
       "\n",
       "mpl.get_websocket_type = function() {\n",
       "    if (typeof(WebSocket) !== 'undefined') {\n",
       "        return WebSocket;\n",
       "    } else if (typeof(MozWebSocket) !== 'undefined') {\n",
       "        return MozWebSocket;\n",
       "    } else {\n",
       "        alert('Your browser does not have WebSocket support.' +\n",
       "              'Please try Chrome, Safari or Firefox ≥ 6. ' +\n",
       "              'Firefox 4 and 5 are also supported but you ' +\n",
       "              'have to enable WebSockets in about:config.');\n",
       "    };\n",
       "}\n",
       "\n",
       "mpl.figure = function(figure_id, websocket, ondownload, parent_element) {\n",
       "    this.id = figure_id;\n",
       "\n",
       "    this.ws = websocket;\n",
       "\n",
       "    this.supports_binary = (this.ws.binaryType != undefined);\n",
       "\n",
       "    if (!this.supports_binary) {\n",
       "        var warnings = document.getElementById(\"mpl-warnings\");\n",
       "        if (warnings) {\n",
       "            warnings.style.display = 'block';\n",
       "            warnings.textContent = (\n",
       "                \"This browser does not support binary websocket messages. \" +\n",
       "                    \"Performance may be slow.\");\n",
       "        }\n",
       "    }\n",
       "\n",
       "    this.imageObj = new Image();\n",
       "\n",
       "    this.context = undefined;\n",
       "    this.message = undefined;\n",
       "    this.canvas = undefined;\n",
       "    this.rubberband_canvas = undefined;\n",
       "    this.rubberband_context = undefined;\n",
       "    this.format_dropdown = undefined;\n",
       "\n",
       "    this.image_mode = 'full';\n",
       "\n",
       "    this.root = $('<div/>');\n",
       "    this._root_extra_style(this.root)\n",
       "    this.root.attr('style', 'display: inline-block');\n",
       "\n",
       "    $(parent_element).append(this.root);\n",
       "\n",
       "    this._init_header(this);\n",
       "    this._init_canvas(this);\n",
       "    this._init_toolbar(this);\n",
       "\n",
       "    var fig = this;\n",
       "\n",
       "    this.waiting = false;\n",
       "\n",
       "    this.ws.onopen =  function () {\n",
       "            fig.send_message(\"supports_binary\", {value: fig.supports_binary});\n",
       "            fig.send_message(\"send_image_mode\", {});\n",
       "            if (mpl.ratio != 1) {\n",
       "                fig.send_message(\"set_dpi_ratio\", {'dpi_ratio': mpl.ratio});\n",
       "            }\n",
       "            fig.send_message(\"refresh\", {});\n",
       "        }\n",
       "\n",
       "    this.imageObj.onload = function() {\n",
       "            if (fig.image_mode == 'full') {\n",
       "                // Full images could contain transparency (where diff images\n",
       "                // almost always do), so we need to clear the canvas so that\n",
       "                // there is no ghosting.\n",
       "                fig.context.clearRect(0, 0, fig.canvas.width, fig.canvas.height);\n",
       "            }\n",
       "            fig.context.drawImage(fig.imageObj, 0, 0);\n",
       "        };\n",
       "\n",
       "    this.imageObj.onunload = function() {\n",
       "        this.ws.close();\n",
       "    }\n",
       "\n",
       "    this.ws.onmessage = this._make_on_message_function(this);\n",
       "\n",
       "    this.ondownload = ondownload;\n",
       "}\n",
       "\n",
       "mpl.figure.prototype._init_header = function() {\n",
       "    var titlebar = $(\n",
       "        '<div class=\"ui-dialog-titlebar ui-widget-header ui-corner-all ' +\n",
       "        'ui-helper-clearfix\"/>');\n",
       "    var titletext = $(\n",
       "        '<div class=\"ui-dialog-title\" style=\"width: 100%; ' +\n",
       "        'text-align: center; padding: 3px;\"/>');\n",
       "    titlebar.append(titletext)\n",
       "    this.root.append(titlebar);\n",
       "    this.header = titletext[0];\n",
       "}\n",
       "\n",
       "\n",
       "\n",
       "mpl.figure.prototype._canvas_extra_style = function(canvas_div) {\n",
       "\n",
       "}\n",
       "\n",
       "\n",
       "mpl.figure.prototype._root_extra_style = function(canvas_div) {\n",
       "\n",
       "}\n",
       "\n",
       "mpl.figure.prototype._init_canvas = function() {\n",
       "    var fig = this;\n",
       "\n",
       "    var canvas_div = $('<div/>');\n",
       "\n",
       "    canvas_div.attr('style', 'position: relative; clear: both; outline: 0');\n",
       "\n",
       "    function canvas_keyboard_event(event) {\n",
       "        return fig.key_event(event, event['data']);\n",
       "    }\n",
       "\n",
       "    canvas_div.keydown('key_press', canvas_keyboard_event);\n",
       "    canvas_div.keyup('key_release', canvas_keyboard_event);\n",
       "    this.canvas_div = canvas_div\n",
       "    this._canvas_extra_style(canvas_div)\n",
       "    this.root.append(canvas_div);\n",
       "\n",
       "    var canvas = $('<canvas/>');\n",
       "    canvas.addClass('mpl-canvas');\n",
       "    canvas.attr('style', \"left: 0; top: 0; z-index: 0; outline: 0\")\n",
       "\n",
       "    this.canvas = canvas[0];\n",
       "    this.context = canvas[0].getContext(\"2d\");\n",
       "\n",
       "    var backingStore = this.context.backingStorePixelRatio ||\n",
       "\tthis.context.webkitBackingStorePixelRatio ||\n",
       "\tthis.context.mozBackingStorePixelRatio ||\n",
       "\tthis.context.msBackingStorePixelRatio ||\n",
       "\tthis.context.oBackingStorePixelRatio ||\n",
       "\tthis.context.backingStorePixelRatio || 1;\n",
       "\n",
       "    mpl.ratio = (window.devicePixelRatio || 1) / backingStore;\n",
       "\n",
       "    var rubberband = $('<canvas/>');\n",
       "    rubberband.attr('style', \"position: absolute; left: 0; top: 0; z-index: 1;\")\n",
       "\n",
       "    var pass_mouse_events = true;\n",
       "\n",
       "    canvas_div.resizable({\n",
       "        start: function(event, ui) {\n",
       "            pass_mouse_events = false;\n",
       "        },\n",
       "        resize: function(event, ui) {\n",
       "            fig.request_resize(ui.size.width, ui.size.height);\n",
       "        },\n",
       "        stop: function(event, ui) {\n",
       "            pass_mouse_events = true;\n",
       "            fig.request_resize(ui.size.width, ui.size.height);\n",
       "        },\n",
       "    });\n",
       "\n",
       "    function mouse_event_fn(event) {\n",
       "        if (pass_mouse_events)\n",
       "            return fig.mouse_event(event, event['data']);\n",
       "    }\n",
       "\n",
       "    rubberband.mousedown('button_press', mouse_event_fn);\n",
       "    rubberband.mouseup('button_release', mouse_event_fn);\n",
       "    // Throttle sequential mouse events to 1 every 20ms.\n",
       "    rubberband.mousemove('motion_notify', mouse_event_fn);\n",
       "\n",
       "    rubberband.mouseenter('figure_enter', mouse_event_fn);\n",
       "    rubberband.mouseleave('figure_leave', mouse_event_fn);\n",
       "\n",
       "    canvas_div.on(\"wheel\", function (event) {\n",
       "        event = event.originalEvent;\n",
       "        event['data'] = 'scroll'\n",
       "        if (event.deltaY < 0) {\n",
       "            event.step = 1;\n",
       "        } else {\n",
       "            event.step = -1;\n",
       "        }\n",
       "        mouse_event_fn(event);\n",
       "    });\n",
       "\n",
       "    canvas_div.append(canvas);\n",
       "    canvas_div.append(rubberband);\n",
       "\n",
       "    this.rubberband = rubberband;\n",
       "    this.rubberband_canvas = rubberband[0];\n",
       "    this.rubberband_context = rubberband[0].getContext(\"2d\");\n",
       "    this.rubberband_context.strokeStyle = \"#000000\";\n",
       "\n",
       "    this._resize_canvas = function(width, height) {\n",
       "        // Keep the size of the canvas, canvas container, and rubber band\n",
       "        // canvas in synch.\n",
       "        canvas_div.css('width', width)\n",
       "        canvas_div.css('height', height)\n",
       "\n",
       "        canvas.attr('width', width * mpl.ratio);\n",
       "        canvas.attr('height', height * mpl.ratio);\n",
       "        canvas.attr('style', 'width: ' + width + 'px; height: ' + height + 'px;');\n",
       "\n",
       "        rubberband.attr('width', width);\n",
       "        rubberband.attr('height', height);\n",
       "    }\n",
       "\n",
       "    // Set the figure to an initial 600x600px, this will subsequently be updated\n",
       "    // upon first draw.\n",
       "    this._resize_canvas(600, 600);\n",
       "\n",
       "    // Disable right mouse context menu.\n",
       "    $(this.rubberband_canvas).bind(\"contextmenu\",function(e){\n",
       "        return false;\n",
       "    });\n",
       "\n",
       "    function set_focus () {\n",
       "        canvas.focus();\n",
       "        canvas_div.focus();\n",
       "    }\n",
       "\n",
       "    window.setTimeout(set_focus, 100);\n",
       "}\n",
       "\n",
       "mpl.figure.prototype._init_toolbar = function() {\n",
       "    var fig = this;\n",
       "\n",
       "    var nav_element = $('<div/>')\n",
       "    nav_element.attr('style', 'width: 100%');\n",
       "    this.root.append(nav_element);\n",
       "\n",
       "    // Define a callback function for later on.\n",
       "    function toolbar_event(event) {\n",
       "        return fig.toolbar_button_onclick(event['data']);\n",
       "    }\n",
       "    function toolbar_mouse_event(event) {\n",
       "        return fig.toolbar_button_onmouseover(event['data']);\n",
       "    }\n",
       "\n",
       "    for(var toolbar_ind in mpl.toolbar_items) {\n",
       "        var name = mpl.toolbar_items[toolbar_ind][0];\n",
       "        var tooltip = mpl.toolbar_items[toolbar_ind][1];\n",
       "        var image = mpl.toolbar_items[toolbar_ind][2];\n",
       "        var method_name = mpl.toolbar_items[toolbar_ind][3];\n",
       "\n",
       "        if (!name) {\n",
       "            // put a spacer in here.\n",
       "            continue;\n",
       "        }\n",
       "        var button = $('<button/>');\n",
       "        button.addClass('ui-button ui-widget ui-state-default ui-corner-all ' +\n",
       "                        'ui-button-icon-only');\n",
       "        button.attr('role', 'button');\n",
       "        button.attr('aria-disabled', 'false');\n",
       "        button.click(method_name, toolbar_event);\n",
       "        button.mouseover(tooltip, toolbar_mouse_event);\n",
       "\n",
       "        var icon_img = $('<span/>');\n",
       "        icon_img.addClass('ui-button-icon-primary ui-icon');\n",
       "        icon_img.addClass(image);\n",
       "        icon_img.addClass('ui-corner-all');\n",
       "\n",
       "        var tooltip_span = $('<span/>');\n",
       "        tooltip_span.addClass('ui-button-text');\n",
       "        tooltip_span.html(tooltip);\n",
       "\n",
       "        button.append(icon_img);\n",
       "        button.append(tooltip_span);\n",
       "\n",
       "        nav_element.append(button);\n",
       "    }\n",
       "\n",
       "    var fmt_picker_span = $('<span/>');\n",
       "\n",
       "    var fmt_picker = $('<select/>');\n",
       "    fmt_picker.addClass('mpl-toolbar-option ui-widget ui-widget-content');\n",
       "    fmt_picker_span.append(fmt_picker);\n",
       "    nav_element.append(fmt_picker_span);\n",
       "    this.format_dropdown = fmt_picker[0];\n",
       "\n",
       "    for (var ind in mpl.extensions) {\n",
       "        var fmt = mpl.extensions[ind];\n",
       "        var option = $(\n",
       "            '<option/>', {selected: fmt === mpl.default_extension}).html(fmt);\n",
       "        fmt_picker.append(option)\n",
       "    }\n",
       "\n",
       "    // Add hover states to the ui-buttons\n",
       "    $( \".ui-button\" ).hover(\n",
       "        function() { $(this).addClass(\"ui-state-hover\");},\n",
       "        function() { $(this).removeClass(\"ui-state-hover\");}\n",
       "    );\n",
       "\n",
       "    var status_bar = $('<span class=\"mpl-message\"/>');\n",
       "    nav_element.append(status_bar);\n",
       "    this.message = status_bar[0];\n",
       "}\n",
       "\n",
       "mpl.figure.prototype.request_resize = function(x_pixels, y_pixels) {\n",
       "    // Request matplotlib to resize the figure. Matplotlib will then trigger a resize in the client,\n",
       "    // which will in turn request a refresh of the image.\n",
       "    this.send_message('resize', {'width': x_pixels, 'height': y_pixels});\n",
       "}\n",
       "\n",
       "mpl.figure.prototype.send_message = function(type, properties) {\n",
       "    properties['type'] = type;\n",
       "    properties['figure_id'] = this.id;\n",
       "    this.ws.send(JSON.stringify(properties));\n",
       "}\n",
       "\n",
       "mpl.figure.prototype.send_draw_message = function() {\n",
       "    if (!this.waiting) {\n",
       "        this.waiting = true;\n",
       "        this.ws.send(JSON.stringify({type: \"draw\", figure_id: this.id}));\n",
       "    }\n",
       "}\n",
       "\n",
       "\n",
       "mpl.figure.prototype.handle_save = function(fig, msg) {\n",
       "    var format_dropdown = fig.format_dropdown;\n",
       "    var format = format_dropdown.options[format_dropdown.selectedIndex].value;\n",
       "    fig.ondownload(fig, format);\n",
       "}\n",
       "\n",
       "\n",
       "mpl.figure.prototype.handle_resize = function(fig, msg) {\n",
       "    var size = msg['size'];\n",
       "    if (size[0] != fig.canvas.width || size[1] != fig.canvas.height) {\n",
       "        fig._resize_canvas(size[0], size[1]);\n",
       "        fig.send_message(\"refresh\", {});\n",
       "    };\n",
       "}\n",
       "\n",
       "mpl.figure.prototype.handle_rubberband = function(fig, msg) {\n",
       "    var x0 = msg['x0'] / mpl.ratio;\n",
       "    var y0 = (fig.canvas.height - msg['y0']) / mpl.ratio;\n",
       "    var x1 = msg['x1'] / mpl.ratio;\n",
       "    var y1 = (fig.canvas.height - msg['y1']) / mpl.ratio;\n",
       "    x0 = Math.floor(x0) + 0.5;\n",
       "    y0 = Math.floor(y0) + 0.5;\n",
       "    x1 = Math.floor(x1) + 0.5;\n",
       "    y1 = Math.floor(y1) + 0.5;\n",
       "    var min_x = Math.min(x0, x1);\n",
       "    var min_y = Math.min(y0, y1);\n",
       "    var width = Math.abs(x1 - x0);\n",
       "    var height = Math.abs(y1 - y0);\n",
       "\n",
       "    fig.rubberband_context.clearRect(\n",
       "        0, 0, fig.canvas.width, fig.canvas.height);\n",
       "\n",
       "    fig.rubberband_context.strokeRect(min_x, min_y, width, height);\n",
       "}\n",
       "\n",
       "mpl.figure.prototype.handle_figure_label = function(fig, msg) {\n",
       "    // Updates the figure title.\n",
       "    fig.header.textContent = msg['label'];\n",
       "}\n",
       "\n",
       "mpl.figure.prototype.handle_cursor = function(fig, msg) {\n",
       "    var cursor = msg['cursor'];\n",
       "    switch(cursor)\n",
       "    {\n",
       "    case 0:\n",
       "        cursor = 'pointer';\n",
       "        break;\n",
       "    case 1:\n",
       "        cursor = 'default';\n",
       "        break;\n",
       "    case 2:\n",
       "        cursor = 'crosshair';\n",
       "        break;\n",
       "    case 3:\n",
       "        cursor = 'move';\n",
       "        break;\n",
       "    }\n",
       "    fig.rubberband_canvas.style.cursor = cursor;\n",
       "}\n",
       "\n",
       "mpl.figure.prototype.handle_message = function(fig, msg) {\n",
       "    fig.message.textContent = msg['message'];\n",
       "}\n",
       "\n",
       "mpl.figure.prototype.handle_draw = function(fig, msg) {\n",
       "    // Request the server to send over a new figure.\n",
       "    fig.send_draw_message();\n",
       "}\n",
       "\n",
       "mpl.figure.prototype.handle_image_mode = function(fig, msg) {\n",
       "    fig.image_mode = msg['mode'];\n",
       "}\n",
       "\n",
       "mpl.figure.prototype.updated_canvas_event = function() {\n",
       "    // Called whenever the canvas gets updated.\n",
       "    this.send_message(\"ack\", {});\n",
       "}\n",
       "\n",
       "// A function to construct a web socket function for onmessage handling.\n",
       "// Called in the figure constructor.\n",
       "mpl.figure.prototype._make_on_message_function = function(fig) {\n",
       "    return function socket_on_message(evt) {\n",
       "        if (evt.data instanceof Blob) {\n",
       "            /* FIXME: We get \"Resource interpreted as Image but\n",
       "             * transferred with MIME type text/plain:\" errors on\n",
       "             * Chrome.  But how to set the MIME type?  It doesn't seem\n",
       "             * to be part of the websocket stream */\n",
       "            evt.data.type = \"image/png\";\n",
       "\n",
       "            /* Free the memory for the previous frames */\n",
       "            if (fig.imageObj.src) {\n",
       "                (window.URL || window.webkitURL).revokeObjectURL(\n",
       "                    fig.imageObj.src);\n",
       "            }\n",
       "\n",
       "            fig.imageObj.src = (window.URL || window.webkitURL).createObjectURL(\n",
       "                evt.data);\n",
       "            fig.updated_canvas_event();\n",
       "            fig.waiting = false;\n",
       "            return;\n",
       "        }\n",
       "        else if (typeof evt.data === 'string' && evt.data.slice(0, 21) == \"data:image/png;base64\") {\n",
       "            fig.imageObj.src = evt.data;\n",
       "            fig.updated_canvas_event();\n",
       "            fig.waiting = false;\n",
       "            return;\n",
       "        }\n",
       "\n",
       "        var msg = JSON.parse(evt.data);\n",
       "        var msg_type = msg['type'];\n",
       "\n",
       "        // Call the  \"handle_{type}\" callback, which takes\n",
       "        // the figure and JSON message as its only arguments.\n",
       "        try {\n",
       "            var callback = fig[\"handle_\" + msg_type];\n",
       "        } catch (e) {\n",
       "            console.log(\"No handler for the '\" + msg_type + \"' message type: \", msg);\n",
       "            return;\n",
       "        }\n",
       "\n",
       "        if (callback) {\n",
       "            try {\n",
       "                // console.log(\"Handling '\" + msg_type + \"' message: \", msg);\n",
       "                callback(fig, msg);\n",
       "            } catch (e) {\n",
       "                console.log(\"Exception inside the 'handler_\" + msg_type + \"' callback:\", e, e.stack, msg);\n",
       "            }\n",
       "        }\n",
       "    };\n",
       "}\n",
       "\n",
       "// from http://stackoverflow.com/questions/1114465/getting-mouse-location-in-canvas\n",
       "mpl.findpos = function(e) {\n",
       "    //this section is from http://www.quirksmode.org/js/events_properties.html\n",
       "    var targ;\n",
       "    if (!e)\n",
       "        e = window.event;\n",
       "    if (e.target)\n",
       "        targ = e.target;\n",
       "    else if (e.srcElement)\n",
       "        targ = e.srcElement;\n",
       "    if (targ.nodeType == 3) // defeat Safari bug\n",
       "        targ = targ.parentNode;\n",
       "\n",
       "    // jQuery normalizes the pageX and pageY\n",
       "    // pageX,Y are the mouse positions relative to the document\n",
       "    // offset() returns the position of the element relative to the document\n",
       "    var x = e.pageX - $(targ).offset().left;\n",
       "    var y = e.pageY - $(targ).offset().top;\n",
       "\n",
       "    return {\"x\": x, \"y\": y};\n",
       "};\n",
       "\n",
       "/*\n",
       " * return a copy of an object with only non-object keys\n",
       " * we need this to avoid circular references\n",
       " * http://stackoverflow.com/a/24161582/3208463\n",
       " */\n",
       "function simpleKeys (original) {\n",
       "  return Object.keys(original).reduce(function (obj, key) {\n",
       "    if (typeof original[key] !== 'object')\n",
       "        obj[key] = original[key]\n",
       "    return obj;\n",
       "  }, {});\n",
       "}\n",
       "\n",
       "mpl.figure.prototype.mouse_event = function(event, name) {\n",
       "    var canvas_pos = mpl.findpos(event)\n",
       "\n",
       "    if (name === 'button_press')\n",
       "    {\n",
       "        this.canvas.focus();\n",
       "        this.canvas_div.focus();\n",
       "    }\n",
       "\n",
       "    var x = canvas_pos.x * mpl.ratio;\n",
       "    var y = canvas_pos.y * mpl.ratio;\n",
       "\n",
       "    this.send_message(name, {x: x, y: y, button: event.button,\n",
       "                             step: event.step,\n",
       "                             guiEvent: simpleKeys(event)});\n",
       "\n",
       "    /* This prevents the web browser from automatically changing to\n",
       "     * the text insertion cursor when the button is pressed.  We want\n",
       "     * to control all of the cursor setting manually through the\n",
       "     * 'cursor' event from matplotlib */\n",
       "    event.preventDefault();\n",
       "    return false;\n",
       "}\n",
       "\n",
       "mpl.figure.prototype._key_event_extra = function(event, name) {\n",
       "    // Handle any extra behaviour associated with a key event\n",
       "}\n",
       "\n",
       "mpl.figure.prototype.key_event = function(event, name) {\n",
       "\n",
       "    // Prevent repeat events\n",
       "    if (name == 'key_press')\n",
       "    {\n",
       "        if (event.which === this._key)\n",
       "            return;\n",
       "        else\n",
       "            this._key = event.which;\n",
       "    }\n",
       "    if (name == 'key_release')\n",
       "        this._key = null;\n",
       "\n",
       "    var value = '';\n",
       "    if (event.ctrlKey && event.which != 17)\n",
       "        value += \"ctrl+\";\n",
       "    if (event.altKey && event.which != 18)\n",
       "        value += \"alt+\";\n",
       "    if (event.shiftKey && event.which != 16)\n",
       "        value += \"shift+\";\n",
       "\n",
       "    value += 'k';\n",
       "    value += event.which.toString();\n",
       "\n",
       "    this._key_event_extra(event, name);\n",
       "\n",
       "    this.send_message(name, {key: value,\n",
       "                             guiEvent: simpleKeys(event)});\n",
       "    return false;\n",
       "}\n",
       "\n",
       "mpl.figure.prototype.toolbar_button_onclick = function(name) {\n",
       "    if (name == 'download') {\n",
       "        this.handle_save(this, null);\n",
       "    } else {\n",
       "        this.send_message(\"toolbar_button\", {name: name});\n",
       "    }\n",
       "};\n",
       "\n",
       "mpl.figure.prototype.toolbar_button_onmouseover = function(tooltip) {\n",
       "    this.message.textContent = tooltip;\n",
       "};\n",
       "mpl.toolbar_items = [[\"Home\", \"Reset original view\", \"fa fa-home icon-home\", \"home\"], [\"Back\", \"Back to  previous view\", \"fa fa-arrow-left icon-arrow-left\", \"back\"], [\"Forward\", \"Forward to next view\", \"fa fa-arrow-right icon-arrow-right\", \"forward\"], [\"\", \"\", \"\", \"\"], [\"Pan\", \"Pan axes with left mouse, zoom with right\", \"fa fa-arrows icon-move\", \"pan\"], [\"Zoom\", \"Zoom to rectangle\", \"fa fa-square-o icon-check-empty\", \"zoom\"], [\"\", \"\", \"\", \"\"], [\"Download\", \"Download plot\", \"fa fa-floppy-o icon-save\", \"download\"]];\n",
       "\n",
       "mpl.extensions = [\"eps\", \"jpeg\", \"pdf\", \"png\", \"ps\", \"raw\", \"svg\", \"tif\"];\n",
       "\n",
       "mpl.default_extension = \"png\";var comm_websocket_adapter = function(comm) {\n",
       "    // Create a \"websocket\"-like object which calls the given IPython comm\n",
       "    // object with the appropriate methods. Currently this is a non binary\n",
       "    // socket, so there is still some room for performance tuning.\n",
       "    var ws = {};\n",
       "\n",
       "    ws.close = function() {\n",
       "        comm.close()\n",
       "    };\n",
       "    ws.send = function(m) {\n",
       "        //console.log('sending', m);\n",
       "        comm.send(m);\n",
       "    };\n",
       "    // Register the callback with on_msg.\n",
       "    comm.on_msg(function(msg) {\n",
       "        //console.log('receiving', msg['content']['data'], msg);\n",
       "        // Pass the mpl event to the overriden (by mpl) onmessage function.\n",
       "        ws.onmessage(msg['content']['data'])\n",
       "    });\n",
       "    return ws;\n",
       "}\n",
       "\n",
       "mpl.mpl_figure_comm = function(comm, msg) {\n",
       "    // This is the function which gets called when the mpl process\n",
       "    // starts-up an IPython Comm through the \"matplotlib\" channel.\n",
       "\n",
       "    var id = msg.content.data.id;\n",
       "    // Get hold of the div created by the display call when the Comm\n",
       "    // socket was opened in Python.\n",
       "    var element = $(\"#\" + id);\n",
       "    var ws_proxy = comm_websocket_adapter(comm)\n",
       "\n",
       "    function ondownload(figure, format) {\n",
       "        window.open(figure.imageObj.src);\n",
       "    }\n",
       "\n",
       "    var fig = new mpl.figure(id, ws_proxy,\n",
       "                           ondownload,\n",
       "                           element.get(0));\n",
       "\n",
       "    // Call onopen now - mpl needs it, as it is assuming we've passed it a real\n",
       "    // web socket which is closed, not our websocket->open comm proxy.\n",
       "    ws_proxy.onopen();\n",
       "\n",
       "    fig.parent_element = element.get(0);\n",
       "    fig.cell_info = mpl.find_output_cell(\"<div id='\" + id + \"'></div>\");\n",
       "    if (!fig.cell_info) {\n",
       "        console.error(\"Failed to find cell for figure\", id, fig);\n",
       "        return;\n",
       "    }\n",
       "\n",
       "    var output_index = fig.cell_info[2]\n",
       "    var cell = fig.cell_info[0];\n",
       "\n",
       "};\n",
       "\n",
       "mpl.figure.prototype.handle_close = function(fig, msg) {\n",
       "    var width = fig.canvas.width/mpl.ratio\n",
       "    fig.root.unbind('remove')\n",
       "\n",
       "    // Update the output cell to use the data from the current canvas.\n",
       "    fig.push_to_output();\n",
       "    var dataURL = fig.canvas.toDataURL();\n",
       "    // Re-enable the keyboard manager in IPython - without this line, in FF,\n",
       "    // the notebook keyboard shortcuts fail.\n",
       "    IPython.keyboard_manager.enable()\n",
       "    $(fig.parent_element).html('<img src=\"' + dataURL + '\" width=\"' + width + '\">');\n",
       "    fig.close_ws(fig, msg);\n",
       "}\n",
       "\n",
       "mpl.figure.prototype.close_ws = function(fig, msg){\n",
       "    fig.send_message('closing', msg);\n",
       "    // fig.ws.close()\n",
       "}\n",
       "\n",
       "mpl.figure.prototype.push_to_output = function(remove_interactive) {\n",
       "    // Turn the data on the canvas into data in the output cell.\n",
       "    var width = this.canvas.width/mpl.ratio\n",
       "    var dataURL = this.canvas.toDataURL();\n",
       "    this.cell_info[1]['text/html'] = '<img src=\"' + dataURL + '\" width=\"' + width + '\">';\n",
       "}\n",
       "\n",
       "mpl.figure.prototype.updated_canvas_event = function() {\n",
       "    // Tell IPython that the notebook contents must change.\n",
       "    IPython.notebook.set_dirty(true);\n",
       "    this.send_message(\"ack\", {});\n",
       "    var fig = this;\n",
       "    // Wait a second, then push the new image to the DOM so\n",
       "    // that it is saved nicely (might be nice to debounce this).\n",
       "    setTimeout(function () { fig.push_to_output() }, 1000);\n",
       "}\n",
       "\n",
       "mpl.figure.prototype._init_toolbar = function() {\n",
       "    var fig = this;\n",
       "\n",
       "    var nav_element = $('<div/>')\n",
       "    nav_element.attr('style', 'width: 100%');\n",
       "    this.root.append(nav_element);\n",
       "\n",
       "    // Define a callback function for later on.\n",
       "    function toolbar_event(event) {\n",
       "        return fig.toolbar_button_onclick(event['data']);\n",
       "    }\n",
       "    function toolbar_mouse_event(event) {\n",
       "        return fig.toolbar_button_onmouseover(event['data']);\n",
       "    }\n",
       "\n",
       "    for(var toolbar_ind in mpl.toolbar_items){\n",
       "        var name = mpl.toolbar_items[toolbar_ind][0];\n",
       "        var tooltip = mpl.toolbar_items[toolbar_ind][1];\n",
       "        var image = mpl.toolbar_items[toolbar_ind][2];\n",
       "        var method_name = mpl.toolbar_items[toolbar_ind][3];\n",
       "\n",
       "        if (!name) { continue; };\n",
       "\n",
       "        var button = $('<button class=\"btn btn-default\" href=\"#\" title=\"' + name + '\"><i class=\"fa ' + image + ' fa-lg\"></i></button>');\n",
       "        button.click(method_name, toolbar_event);\n",
       "        button.mouseover(tooltip, toolbar_mouse_event);\n",
       "        nav_element.append(button);\n",
       "    }\n",
       "\n",
       "    // Add the status bar.\n",
       "    var status_bar = $('<span class=\"mpl-message\" style=\"text-align:right; float: right;\"/>');\n",
       "    nav_element.append(status_bar);\n",
       "    this.message = status_bar[0];\n",
       "\n",
       "    // Add the close button to the window.\n",
       "    var buttongrp = $('<div class=\"btn-group inline pull-right\"></div>');\n",
       "    var button = $('<button class=\"btn btn-mini btn-primary\" href=\"#\" title=\"Stop Interaction\"><i class=\"fa fa-power-off icon-remove icon-large\"></i></button>');\n",
       "    button.click(function (evt) { fig.handle_close(fig, {}); } );\n",
       "    button.mouseover('Stop Interaction', toolbar_mouse_event);\n",
       "    buttongrp.append(button);\n",
       "    var titlebar = this.root.find($('.ui-dialog-titlebar'));\n",
       "    titlebar.prepend(buttongrp);\n",
       "}\n",
       "\n",
       "mpl.figure.prototype._root_extra_style = function(el){\n",
       "    var fig = this\n",
       "    el.on(\"remove\", function(){\n",
       "\tfig.close_ws(fig, {});\n",
       "    });\n",
       "}\n",
       "\n",
       "mpl.figure.prototype._canvas_extra_style = function(el){\n",
       "    // this is important to make the div 'focusable\n",
       "    el.attr('tabindex', 0)\n",
       "    // reach out to IPython and tell the keyboard manager to turn it's self\n",
       "    // off when our div gets focus\n",
       "\n",
       "    // location in version 3\n",
       "    if (IPython.notebook.keyboard_manager) {\n",
       "        IPython.notebook.keyboard_manager.register_events(el);\n",
       "    }\n",
       "    else {\n",
       "        // location in version 2\n",
       "        IPython.keyboard_manager.register_events(el);\n",
       "    }\n",
       "\n",
       "}\n",
       "\n",
       "mpl.figure.prototype._key_event_extra = function(event, name) {\n",
       "    var manager = IPython.notebook.keyboard_manager;\n",
       "    if (!manager)\n",
       "        manager = IPython.keyboard_manager;\n",
       "\n",
       "    // Check for shift+enter\n",
       "    if (event.shiftKey && event.which == 13) {\n",
       "        this.canvas_div.blur();\n",
       "        // select the cell after this one\n",
       "        var index = IPython.notebook.find_cell_index(this.cell_info[0]);\n",
       "        IPython.notebook.select(index + 1);\n",
       "    }\n",
       "}\n",
       "\n",
       "mpl.figure.prototype.handle_save = function(fig, msg) {\n",
       "    fig.ondownload(fig, null);\n",
       "}\n",
       "\n",
       "\n",
       "mpl.find_output_cell = function(html_output) {\n",
       "    // Return the cell and output element which can be found *uniquely* in the notebook.\n",
       "    // Note - this is a bit hacky, but it is done because the \"notebook_saving.Notebook\"\n",
       "    // IPython event is triggered only after the cells have been serialised, which for\n",
       "    // our purposes (turning an active figure into a static one), is too late.\n",
       "    var cells = IPython.notebook.get_cells();\n",
       "    var ncells = cells.length;\n",
       "    for (var i=0; i<ncells; i++) {\n",
       "        var cell = cells[i];\n",
       "        if (cell.cell_type === 'code'){\n",
       "            for (var j=0; j<cell.output_area.outputs.length; j++) {\n",
       "                var data = cell.output_area.outputs[j];\n",
       "                if (data.data) {\n",
       "                    // IPython >= 3 moved mimebundle to data attribute of output\n",
       "                    data = data.data;\n",
       "                }\n",
       "                if (data['text/html'] == html_output) {\n",
       "                    return [cell, data, j];\n",
       "                }\n",
       "            }\n",
       "        }\n",
       "    }\n",
       "}\n",
       "\n",
       "// Register the function which deals with the matplotlib target/channel.\n",
       "// The kernel may be null if the page has been refreshed.\n",
       "if (IPython.notebook.kernel != null) {\n",
       "    IPython.notebook.kernel.comm_manager.register_target('matplotlib', mpl.mpl_figure_comm);\n",
       "}\n"
      ],
      "text/plain": [
       "<IPython.core.display.Javascript object>"
      ]
     },
     "metadata": {},
     "output_type": "display_data"
    },
    {
     "data": {
      "text/html": [
       "<img src=\"data:image/png;base64,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\" width=\"350\">"
      ],
      "text/plain": [
       "<IPython.core.display.HTML object>"
      ]
     },
     "metadata": {},
     "output_type": "display_data"
    }
   ],
   "source": [
    "fig2, ax2 = plt.subplots(figsize=figsize)"
   ]
  },
  {
   "cell_type": "code",
   "execution_count": 15,
   "metadata": {
    "collapsed": false,
    "deletable": true,
    "editable": true,
    "extensions": {
     "jupyter_dashboards": {
      "version": 1,
      "views": {
       "grid_default": {
        "col": 2,
        "height": 12,
        "hidden": false,
        "row": 13,
        "width": 4
       },
       "report_default": {
        "hidden": false
       }
      }
     }
    }
   },
   "outputs": [
    {
     "data": {
      "application/javascript": [
       "/* Put everything inside the global mpl namespace */\n",
       "window.mpl = {};\n",
       "\n",
       "\n",
       "mpl.get_websocket_type = function() {\n",
       "    if (typeof(WebSocket) !== 'undefined') {\n",
       "        return WebSocket;\n",
       "    } else if (typeof(MozWebSocket) !== 'undefined') {\n",
       "        return MozWebSocket;\n",
       "    } else {\n",
       "        alert('Your browser does not have WebSocket support.' +\n",
       "              'Please try Chrome, Safari or Firefox ≥ 6. ' +\n",
       "              'Firefox 4 and 5 are also supported but you ' +\n",
       "              'have to enable WebSockets in about:config.');\n",
       "    };\n",
       "}\n",
       "\n",
       "mpl.figure = function(figure_id, websocket, ondownload, parent_element) {\n",
       "    this.id = figure_id;\n",
       "\n",
       "    this.ws = websocket;\n",
       "\n",
       "    this.supports_binary = (this.ws.binaryType != undefined);\n",
       "\n",
       "    if (!this.supports_binary) {\n",
       "        var warnings = document.getElementById(\"mpl-warnings\");\n",
       "        if (warnings) {\n",
       "            warnings.style.display = 'block';\n",
       "            warnings.textContent = (\n",
       "                \"This browser does not support binary websocket messages. \" +\n",
       "                    \"Performance may be slow.\");\n",
       "        }\n",
       "    }\n",
       "\n",
       "    this.imageObj = new Image();\n",
       "\n",
       "    this.context = undefined;\n",
       "    this.message = undefined;\n",
       "    this.canvas = undefined;\n",
       "    this.rubberband_canvas = undefined;\n",
       "    this.rubberband_context = undefined;\n",
       "    this.format_dropdown = undefined;\n",
       "\n",
       "    this.image_mode = 'full';\n",
       "\n",
       "    this.root = $('<div/>');\n",
       "    this._root_extra_style(this.root)\n",
       "    this.root.attr('style', 'display: inline-block');\n",
       "\n",
       "    $(parent_element).append(this.root);\n",
       "\n",
       "    this._init_header(this);\n",
       "    this._init_canvas(this);\n",
       "    this._init_toolbar(this);\n",
       "\n",
       "    var fig = this;\n",
       "\n",
       "    this.waiting = false;\n",
       "\n",
       "    this.ws.onopen =  function () {\n",
       "            fig.send_message(\"supports_binary\", {value: fig.supports_binary});\n",
       "            fig.send_message(\"send_image_mode\", {});\n",
       "            if (mpl.ratio != 1) {\n",
       "                fig.send_message(\"set_dpi_ratio\", {'dpi_ratio': mpl.ratio});\n",
       "            }\n",
       "            fig.send_message(\"refresh\", {});\n",
       "        }\n",
       "\n",
       "    this.imageObj.onload = function() {\n",
       "            if (fig.image_mode == 'full') {\n",
       "                // Full images could contain transparency (where diff images\n",
       "                // almost always do), so we need to clear the canvas so that\n",
       "                // there is no ghosting.\n",
       "                fig.context.clearRect(0, 0, fig.canvas.width, fig.canvas.height);\n",
       "            }\n",
       "            fig.context.drawImage(fig.imageObj, 0, 0);\n",
       "        };\n",
       "\n",
       "    this.imageObj.onunload = function() {\n",
       "        this.ws.close();\n",
       "    }\n",
       "\n",
       "    this.ws.onmessage = this._make_on_message_function(this);\n",
       "\n",
       "    this.ondownload = ondownload;\n",
       "}\n",
       "\n",
       "mpl.figure.prototype._init_header = function() {\n",
       "    var titlebar = $(\n",
       "        '<div class=\"ui-dialog-titlebar ui-widget-header ui-corner-all ' +\n",
       "        'ui-helper-clearfix\"/>');\n",
       "    var titletext = $(\n",
       "        '<div class=\"ui-dialog-title\" style=\"width: 100%; ' +\n",
       "        'text-align: center; padding: 3px;\"/>');\n",
       "    titlebar.append(titletext)\n",
       "    this.root.append(titlebar);\n",
       "    this.header = titletext[0];\n",
       "}\n",
       "\n",
       "\n",
       "\n",
       "mpl.figure.prototype._canvas_extra_style = function(canvas_div) {\n",
       "\n",
       "}\n",
       "\n",
       "\n",
       "mpl.figure.prototype._root_extra_style = function(canvas_div) {\n",
       "\n",
       "}\n",
       "\n",
       "mpl.figure.prototype._init_canvas = function() {\n",
       "    var fig = this;\n",
       "\n",
       "    var canvas_div = $('<div/>');\n",
       "\n",
       "    canvas_div.attr('style', 'position: relative; clear: both; outline: 0');\n",
       "\n",
       "    function canvas_keyboard_event(event) {\n",
       "        return fig.key_event(event, event['data']);\n",
       "    }\n",
       "\n",
       "    canvas_div.keydown('key_press', canvas_keyboard_event);\n",
       "    canvas_div.keyup('key_release', canvas_keyboard_event);\n",
       "    this.canvas_div = canvas_div\n",
       "    this._canvas_extra_style(canvas_div)\n",
       "    this.root.append(canvas_div);\n",
       "\n",
       "    var canvas = $('<canvas/>');\n",
       "    canvas.addClass('mpl-canvas');\n",
       "    canvas.attr('style', \"left: 0; top: 0; z-index: 0; outline: 0\")\n",
       "\n",
       "    this.canvas = canvas[0];\n",
       "    this.context = canvas[0].getContext(\"2d\");\n",
       "\n",
       "    var backingStore = this.context.backingStorePixelRatio ||\n",
       "\tthis.context.webkitBackingStorePixelRatio ||\n",
       "\tthis.context.mozBackingStorePixelRatio ||\n",
       "\tthis.context.msBackingStorePixelRatio ||\n",
       "\tthis.context.oBackingStorePixelRatio ||\n",
       "\tthis.context.backingStorePixelRatio || 1;\n",
       "\n",
       "    mpl.ratio = (window.devicePixelRatio || 1) / backingStore;\n",
       "\n",
       "    var rubberband = $('<canvas/>');\n",
       "    rubberband.attr('style', \"position: absolute; left: 0; top: 0; z-index: 1;\")\n",
       "\n",
       "    var pass_mouse_events = true;\n",
       "\n",
       "    canvas_div.resizable({\n",
       "        start: function(event, ui) {\n",
       "            pass_mouse_events = false;\n",
       "        },\n",
       "        resize: function(event, ui) {\n",
       "            fig.request_resize(ui.size.width, ui.size.height);\n",
       "        },\n",
       "        stop: function(event, ui) {\n",
       "            pass_mouse_events = true;\n",
       "            fig.request_resize(ui.size.width, ui.size.height);\n",
       "        },\n",
       "    });\n",
       "\n",
       "    function mouse_event_fn(event) {\n",
       "        if (pass_mouse_events)\n",
       "            return fig.mouse_event(event, event['data']);\n",
       "    }\n",
       "\n",
       "    rubberband.mousedown('button_press', mouse_event_fn);\n",
       "    rubberband.mouseup('button_release', mouse_event_fn);\n",
       "    // Throttle sequential mouse events to 1 every 20ms.\n",
       "    rubberband.mousemove('motion_notify', mouse_event_fn);\n",
       "\n",
       "    rubberband.mouseenter('figure_enter', mouse_event_fn);\n",
       "    rubberband.mouseleave('figure_leave', mouse_event_fn);\n",
       "\n",
       "    canvas_div.on(\"wheel\", function (event) {\n",
       "        event = event.originalEvent;\n",
       "        event['data'] = 'scroll'\n",
       "        if (event.deltaY < 0) {\n",
       "            event.step = 1;\n",
       "        } else {\n",
       "            event.step = -1;\n",
       "        }\n",
       "        mouse_event_fn(event);\n",
       "    });\n",
       "\n",
       "    canvas_div.append(canvas);\n",
       "    canvas_div.append(rubberband);\n",
       "\n",
       "    this.rubberband = rubberband;\n",
       "    this.rubberband_canvas = rubberband[0];\n",
       "    this.rubberband_context = rubberband[0].getContext(\"2d\");\n",
       "    this.rubberband_context.strokeStyle = \"#000000\";\n",
       "\n",
       "    this._resize_canvas = function(width, height) {\n",
       "        // Keep the size of the canvas, canvas container, and rubber band\n",
       "        // canvas in synch.\n",
       "        canvas_div.css('width', width)\n",
       "        canvas_div.css('height', height)\n",
       "\n",
       "        canvas.attr('width', width * mpl.ratio);\n",
       "        canvas.attr('height', height * mpl.ratio);\n",
       "        canvas.attr('style', 'width: ' + width + 'px; height: ' + height + 'px;');\n",
       "\n",
       "        rubberband.attr('width', width);\n",
       "        rubberband.attr('height', height);\n",
       "    }\n",
       "\n",
       "    // Set the figure to an initial 600x600px, this will subsequently be updated\n",
       "    // upon first draw.\n",
       "    this._resize_canvas(600, 600);\n",
       "\n",
       "    // Disable right mouse context menu.\n",
       "    $(this.rubberband_canvas).bind(\"contextmenu\",function(e){\n",
       "        return false;\n",
       "    });\n",
       "\n",
       "    function set_focus () {\n",
       "        canvas.focus();\n",
       "        canvas_div.focus();\n",
       "    }\n",
       "\n",
       "    window.setTimeout(set_focus, 100);\n",
       "}\n",
       "\n",
       "mpl.figure.prototype._init_toolbar = function() {\n",
       "    var fig = this;\n",
       "\n",
       "    var nav_element = $('<div/>')\n",
       "    nav_element.attr('style', 'width: 100%');\n",
       "    this.root.append(nav_element);\n",
       "\n",
       "    // Define a callback function for later on.\n",
       "    function toolbar_event(event) {\n",
       "        return fig.toolbar_button_onclick(event['data']);\n",
       "    }\n",
       "    function toolbar_mouse_event(event) {\n",
       "        return fig.toolbar_button_onmouseover(event['data']);\n",
       "    }\n",
       "\n",
       "    for(var toolbar_ind in mpl.toolbar_items) {\n",
       "        var name = mpl.toolbar_items[toolbar_ind][0];\n",
       "        var tooltip = mpl.toolbar_items[toolbar_ind][1];\n",
       "        var image = mpl.toolbar_items[toolbar_ind][2];\n",
       "        var method_name = mpl.toolbar_items[toolbar_ind][3];\n",
       "\n",
       "        if (!name) {\n",
       "            // put a spacer in here.\n",
       "            continue;\n",
       "        }\n",
       "        var button = $('<button/>');\n",
       "        button.addClass('ui-button ui-widget ui-state-default ui-corner-all ' +\n",
       "                        'ui-button-icon-only');\n",
       "        button.attr('role', 'button');\n",
       "        button.attr('aria-disabled', 'false');\n",
       "        button.click(method_name, toolbar_event);\n",
       "        button.mouseover(tooltip, toolbar_mouse_event);\n",
       "\n",
       "        var icon_img = $('<span/>');\n",
       "        icon_img.addClass('ui-button-icon-primary ui-icon');\n",
       "        icon_img.addClass(image);\n",
       "        icon_img.addClass('ui-corner-all');\n",
       "\n",
       "        var tooltip_span = $('<span/>');\n",
       "        tooltip_span.addClass('ui-button-text');\n",
       "        tooltip_span.html(tooltip);\n",
       "\n",
       "        button.append(icon_img);\n",
       "        button.append(tooltip_span);\n",
       "\n",
       "        nav_element.append(button);\n",
       "    }\n",
       "\n",
       "    var fmt_picker_span = $('<span/>');\n",
       "\n",
       "    var fmt_picker = $('<select/>');\n",
       "    fmt_picker.addClass('mpl-toolbar-option ui-widget ui-widget-content');\n",
       "    fmt_picker_span.append(fmt_picker);\n",
       "    nav_element.append(fmt_picker_span);\n",
       "    this.format_dropdown = fmt_picker[0];\n",
       "\n",
       "    for (var ind in mpl.extensions) {\n",
       "        var fmt = mpl.extensions[ind];\n",
       "        var option = $(\n",
       "            '<option/>', {selected: fmt === mpl.default_extension}).html(fmt);\n",
       "        fmt_picker.append(option)\n",
       "    }\n",
       "\n",
       "    // Add hover states to the ui-buttons\n",
       "    $( \".ui-button\" ).hover(\n",
       "        function() { $(this).addClass(\"ui-state-hover\");},\n",
       "        function() { $(this).removeClass(\"ui-state-hover\");}\n",
       "    );\n",
       "\n",
       "    var status_bar = $('<span class=\"mpl-message\"/>');\n",
       "    nav_element.append(status_bar);\n",
       "    this.message = status_bar[0];\n",
       "}\n",
       "\n",
       "mpl.figure.prototype.request_resize = function(x_pixels, y_pixels) {\n",
       "    // Request matplotlib to resize the figure. Matplotlib will then trigger a resize in the client,\n",
       "    // which will in turn request a refresh of the image.\n",
       "    this.send_message('resize', {'width': x_pixels, 'height': y_pixels});\n",
       "}\n",
       "\n",
       "mpl.figure.prototype.send_message = function(type, properties) {\n",
       "    properties['type'] = type;\n",
       "    properties['figure_id'] = this.id;\n",
       "    this.ws.send(JSON.stringify(properties));\n",
       "}\n",
       "\n",
       "mpl.figure.prototype.send_draw_message = function() {\n",
       "    if (!this.waiting) {\n",
       "        this.waiting = true;\n",
       "        this.ws.send(JSON.stringify({type: \"draw\", figure_id: this.id}));\n",
       "    }\n",
       "}\n",
       "\n",
       "\n",
       "mpl.figure.prototype.handle_save = function(fig, msg) {\n",
       "    var format_dropdown = fig.format_dropdown;\n",
       "    var format = format_dropdown.options[format_dropdown.selectedIndex].value;\n",
       "    fig.ondownload(fig, format);\n",
       "}\n",
       "\n",
       "\n",
       "mpl.figure.prototype.handle_resize = function(fig, msg) {\n",
       "    var size = msg['size'];\n",
       "    if (size[0] != fig.canvas.width || size[1] != fig.canvas.height) {\n",
       "        fig._resize_canvas(size[0], size[1]);\n",
       "        fig.send_message(\"refresh\", {});\n",
       "    };\n",
       "}\n",
       "\n",
       "mpl.figure.prototype.handle_rubberband = function(fig, msg) {\n",
       "    var x0 = msg['x0'] / mpl.ratio;\n",
       "    var y0 = (fig.canvas.height - msg['y0']) / mpl.ratio;\n",
       "    var x1 = msg['x1'] / mpl.ratio;\n",
       "    var y1 = (fig.canvas.height - msg['y1']) / mpl.ratio;\n",
       "    x0 = Math.floor(x0) + 0.5;\n",
       "    y0 = Math.floor(y0) + 0.5;\n",
       "    x1 = Math.floor(x1) + 0.5;\n",
       "    y1 = Math.floor(y1) + 0.5;\n",
       "    var min_x = Math.min(x0, x1);\n",
       "    var min_y = Math.min(y0, y1);\n",
       "    var width = Math.abs(x1 - x0);\n",
       "    var height = Math.abs(y1 - y0);\n",
       "\n",
       "    fig.rubberband_context.clearRect(\n",
       "        0, 0, fig.canvas.width, fig.canvas.height);\n",
       "\n",
       "    fig.rubberband_context.strokeRect(min_x, min_y, width, height);\n",
       "}\n",
       "\n",
       "mpl.figure.prototype.handle_figure_label = function(fig, msg) {\n",
       "    // Updates the figure title.\n",
       "    fig.header.textContent = msg['label'];\n",
       "}\n",
       "\n",
       "mpl.figure.prototype.handle_cursor = function(fig, msg) {\n",
       "    var cursor = msg['cursor'];\n",
       "    switch(cursor)\n",
       "    {\n",
       "    case 0:\n",
       "        cursor = 'pointer';\n",
       "        break;\n",
       "    case 1:\n",
       "        cursor = 'default';\n",
       "        break;\n",
       "    case 2:\n",
       "        cursor = 'crosshair';\n",
       "        break;\n",
       "    case 3:\n",
       "        cursor = 'move';\n",
       "        break;\n",
       "    }\n",
       "    fig.rubberband_canvas.style.cursor = cursor;\n",
       "}\n",
       "\n",
       "mpl.figure.prototype.handle_message = function(fig, msg) {\n",
       "    fig.message.textContent = msg['message'];\n",
       "}\n",
       "\n",
       "mpl.figure.prototype.handle_draw = function(fig, msg) {\n",
       "    // Request the server to send over a new figure.\n",
       "    fig.send_draw_message();\n",
       "}\n",
       "\n",
       "mpl.figure.prototype.handle_image_mode = function(fig, msg) {\n",
       "    fig.image_mode = msg['mode'];\n",
       "}\n",
       "\n",
       "mpl.figure.prototype.updated_canvas_event = function() {\n",
       "    // Called whenever the canvas gets updated.\n",
       "    this.send_message(\"ack\", {});\n",
       "}\n",
       "\n",
       "// A function to construct a web socket function for onmessage handling.\n",
       "// Called in the figure constructor.\n",
       "mpl.figure.prototype._make_on_message_function = function(fig) {\n",
       "    return function socket_on_message(evt) {\n",
       "        if (evt.data instanceof Blob) {\n",
       "            /* FIXME: We get \"Resource interpreted as Image but\n",
       "             * transferred with MIME type text/plain:\" errors on\n",
       "             * Chrome.  But how to set the MIME type?  It doesn't seem\n",
       "             * to be part of the websocket stream */\n",
       "            evt.data.type = \"image/png\";\n",
       "\n",
       "            /* Free the memory for the previous frames */\n",
       "            if (fig.imageObj.src) {\n",
       "                (window.URL || window.webkitURL).revokeObjectURL(\n",
       "                    fig.imageObj.src);\n",
       "            }\n",
       "\n",
       "            fig.imageObj.src = (window.URL || window.webkitURL).createObjectURL(\n",
       "                evt.data);\n",
       "            fig.updated_canvas_event();\n",
       "            fig.waiting = false;\n",
       "            return;\n",
       "        }\n",
       "        else if (typeof evt.data === 'string' && evt.data.slice(0, 21) == \"data:image/png;base64\") {\n",
       "            fig.imageObj.src = evt.data;\n",
       "            fig.updated_canvas_event();\n",
       "            fig.waiting = false;\n",
       "            return;\n",
       "        }\n",
       "\n",
       "        var msg = JSON.parse(evt.data);\n",
       "        var msg_type = msg['type'];\n",
       "\n",
       "        // Call the  \"handle_{type}\" callback, which takes\n",
       "        // the figure and JSON message as its only arguments.\n",
       "        try {\n",
       "            var callback = fig[\"handle_\" + msg_type];\n",
       "        } catch (e) {\n",
       "            console.log(\"No handler for the '\" + msg_type + \"' message type: \", msg);\n",
       "            return;\n",
       "        }\n",
       "\n",
       "        if (callback) {\n",
       "            try {\n",
       "                // console.log(\"Handling '\" + msg_type + \"' message: \", msg);\n",
       "                callback(fig, msg);\n",
       "            } catch (e) {\n",
       "                console.log(\"Exception inside the 'handler_\" + msg_type + \"' callback:\", e, e.stack, msg);\n",
       "            }\n",
       "        }\n",
       "    };\n",
       "}\n",
       "\n",
       "// from http://stackoverflow.com/questions/1114465/getting-mouse-location-in-canvas\n",
       "mpl.findpos = function(e) {\n",
       "    //this section is from http://www.quirksmode.org/js/events_properties.html\n",
       "    var targ;\n",
       "    if (!e)\n",
       "        e = window.event;\n",
       "    if (e.target)\n",
       "        targ = e.target;\n",
       "    else if (e.srcElement)\n",
       "        targ = e.srcElement;\n",
       "    if (targ.nodeType == 3) // defeat Safari bug\n",
       "        targ = targ.parentNode;\n",
       "\n",
       "    // jQuery normalizes the pageX and pageY\n",
       "    // pageX,Y are the mouse positions relative to the document\n",
       "    // offset() returns the position of the element relative to the document\n",
       "    var x = e.pageX - $(targ).offset().left;\n",
       "    var y = e.pageY - $(targ).offset().top;\n",
       "\n",
       "    return {\"x\": x, \"y\": y};\n",
       "};\n",
       "\n",
       "/*\n",
       " * return a copy of an object with only non-object keys\n",
       " * we need this to avoid circular references\n",
       " * http://stackoverflow.com/a/24161582/3208463\n",
       " */\n",
       "function simpleKeys (original) {\n",
       "  return Object.keys(original).reduce(function (obj, key) {\n",
       "    if (typeof original[key] !== 'object')\n",
       "        obj[key] = original[key]\n",
       "    return obj;\n",
       "  }, {});\n",
       "}\n",
       "\n",
       "mpl.figure.prototype.mouse_event = function(event, name) {\n",
       "    var canvas_pos = mpl.findpos(event)\n",
       "\n",
       "    if (name === 'button_press')\n",
       "    {\n",
       "        this.canvas.focus();\n",
       "        this.canvas_div.focus();\n",
       "    }\n",
       "\n",
       "    var x = canvas_pos.x * mpl.ratio;\n",
       "    var y = canvas_pos.y * mpl.ratio;\n",
       "\n",
       "    this.send_message(name, {x: x, y: y, button: event.button,\n",
       "                             step: event.step,\n",
       "                             guiEvent: simpleKeys(event)});\n",
       "\n",
       "    /* This prevents the web browser from automatically changing to\n",
       "     * the text insertion cursor when the button is pressed.  We want\n",
       "     * to control all of the cursor setting manually through the\n",
       "     * 'cursor' event from matplotlib */\n",
       "    event.preventDefault();\n",
       "    return false;\n",
       "}\n",
       "\n",
       "mpl.figure.prototype._key_event_extra = function(event, name) {\n",
       "    // Handle any extra behaviour associated with a key event\n",
       "}\n",
       "\n",
       "mpl.figure.prototype.key_event = function(event, name) {\n",
       "\n",
       "    // Prevent repeat events\n",
       "    if (name == 'key_press')\n",
       "    {\n",
       "        if (event.which === this._key)\n",
       "            return;\n",
       "        else\n",
       "            this._key = event.which;\n",
       "    }\n",
       "    if (name == 'key_release')\n",
       "        this._key = null;\n",
       "\n",
       "    var value = '';\n",
       "    if (event.ctrlKey && event.which != 17)\n",
       "        value += \"ctrl+\";\n",
       "    if (event.altKey && event.which != 18)\n",
       "        value += \"alt+\";\n",
       "    if (event.shiftKey && event.which != 16)\n",
       "        value += \"shift+\";\n",
       "\n",
       "    value += 'k';\n",
       "    value += event.which.toString();\n",
       "\n",
       "    this._key_event_extra(event, name);\n",
       "\n",
       "    this.send_message(name, {key: value,\n",
       "                             guiEvent: simpleKeys(event)});\n",
       "    return false;\n",
       "}\n",
       "\n",
       "mpl.figure.prototype.toolbar_button_onclick = function(name) {\n",
       "    if (name == 'download') {\n",
       "        this.handle_save(this, null);\n",
       "    } else {\n",
       "        this.send_message(\"toolbar_button\", {name: name});\n",
       "    }\n",
       "};\n",
       "\n",
       "mpl.figure.prototype.toolbar_button_onmouseover = function(tooltip) {\n",
       "    this.message.textContent = tooltip;\n",
       "};\n",
       "mpl.toolbar_items = [[\"Home\", \"Reset original view\", \"fa fa-home icon-home\", \"home\"], [\"Back\", \"Back to  previous view\", \"fa fa-arrow-left icon-arrow-left\", \"back\"], [\"Forward\", \"Forward to next view\", \"fa fa-arrow-right icon-arrow-right\", \"forward\"], [\"\", \"\", \"\", \"\"], [\"Pan\", \"Pan axes with left mouse, zoom with right\", \"fa fa-arrows icon-move\", \"pan\"], [\"Zoom\", \"Zoom to rectangle\", \"fa fa-square-o icon-check-empty\", \"zoom\"], [\"\", \"\", \"\", \"\"], [\"Download\", \"Download plot\", \"fa fa-floppy-o icon-save\", \"download\"]];\n",
       "\n",
       "mpl.extensions = [\"eps\", \"jpeg\", \"pdf\", \"png\", \"ps\", \"raw\", \"svg\", \"tif\"];\n",
       "\n",
       "mpl.default_extension = \"png\";var comm_websocket_adapter = function(comm) {\n",
       "    // Create a \"websocket\"-like object which calls the given IPython comm\n",
       "    // object with the appropriate methods. Currently this is a non binary\n",
       "    // socket, so there is still some room for performance tuning.\n",
       "    var ws = {};\n",
       "\n",
       "    ws.close = function() {\n",
       "        comm.close()\n",
       "    };\n",
       "    ws.send = function(m) {\n",
       "        //console.log('sending', m);\n",
       "        comm.send(m);\n",
       "    };\n",
       "    // Register the callback with on_msg.\n",
       "    comm.on_msg(function(msg) {\n",
       "        //console.log('receiving', msg['content']['data'], msg);\n",
       "        // Pass the mpl event to the overriden (by mpl) onmessage function.\n",
       "        ws.onmessage(msg['content']['data'])\n",
       "    });\n",
       "    return ws;\n",
       "}\n",
       "\n",
       "mpl.mpl_figure_comm = function(comm, msg) {\n",
       "    // This is the function which gets called when the mpl process\n",
       "    // starts-up an IPython Comm through the \"matplotlib\" channel.\n",
       "\n",
       "    var id = msg.content.data.id;\n",
       "    // Get hold of the div created by the display call when the Comm\n",
       "    // socket was opened in Python.\n",
       "    var element = $(\"#\" + id);\n",
       "    var ws_proxy = comm_websocket_adapter(comm)\n",
       "\n",
       "    function ondownload(figure, format) {\n",
       "        window.open(figure.imageObj.src);\n",
       "    }\n",
       "\n",
       "    var fig = new mpl.figure(id, ws_proxy,\n",
       "                           ondownload,\n",
       "                           element.get(0));\n",
       "\n",
       "    // Call onopen now - mpl needs it, as it is assuming we've passed it a real\n",
       "    // web socket which is closed, not our websocket->open comm proxy.\n",
       "    ws_proxy.onopen();\n",
       "\n",
       "    fig.parent_element = element.get(0);\n",
       "    fig.cell_info = mpl.find_output_cell(\"<div id='\" + id + \"'></div>\");\n",
       "    if (!fig.cell_info) {\n",
       "        console.error(\"Failed to find cell for figure\", id, fig);\n",
       "        return;\n",
       "    }\n",
       "\n",
       "    var output_index = fig.cell_info[2]\n",
       "    var cell = fig.cell_info[0];\n",
       "\n",
       "};\n",
       "\n",
       "mpl.figure.prototype.handle_close = function(fig, msg) {\n",
       "    var width = fig.canvas.width/mpl.ratio\n",
       "    fig.root.unbind('remove')\n",
       "\n",
       "    // Update the output cell to use the data from the current canvas.\n",
       "    fig.push_to_output();\n",
       "    var dataURL = fig.canvas.toDataURL();\n",
       "    // Re-enable the keyboard manager in IPython - without this line, in FF,\n",
       "    // the notebook keyboard shortcuts fail.\n",
       "    IPython.keyboard_manager.enable()\n",
       "    $(fig.parent_element).html('<img src=\"' + dataURL + '\" width=\"' + width + '\">');\n",
       "    fig.close_ws(fig, msg);\n",
       "}\n",
       "\n",
       "mpl.figure.prototype.close_ws = function(fig, msg){\n",
       "    fig.send_message('closing', msg);\n",
       "    // fig.ws.close()\n",
       "}\n",
       "\n",
       "mpl.figure.prototype.push_to_output = function(remove_interactive) {\n",
       "    // Turn the data on the canvas into data in the output cell.\n",
       "    var width = this.canvas.width/mpl.ratio\n",
       "    var dataURL = this.canvas.toDataURL();\n",
       "    this.cell_info[1]['text/html'] = '<img src=\"' + dataURL + '\" width=\"' + width + '\">';\n",
       "}\n",
       "\n",
       "mpl.figure.prototype.updated_canvas_event = function() {\n",
       "    // Tell IPython that the notebook contents must change.\n",
       "    IPython.notebook.set_dirty(true);\n",
       "    this.send_message(\"ack\", {});\n",
       "    var fig = this;\n",
       "    // Wait a second, then push the new image to the DOM so\n",
       "    // that it is saved nicely (might be nice to debounce this).\n",
       "    setTimeout(function () { fig.push_to_output() }, 1000);\n",
       "}\n",
       "\n",
       "mpl.figure.prototype._init_toolbar = function() {\n",
       "    var fig = this;\n",
       "\n",
       "    var nav_element = $('<div/>')\n",
       "    nav_element.attr('style', 'width: 100%');\n",
       "    this.root.append(nav_element);\n",
       "\n",
       "    // Define a callback function for later on.\n",
       "    function toolbar_event(event) {\n",
       "        return fig.toolbar_button_onclick(event['data']);\n",
       "    }\n",
       "    function toolbar_mouse_event(event) {\n",
       "        return fig.toolbar_button_onmouseover(event['data']);\n",
       "    }\n",
       "\n",
       "    for(var toolbar_ind in mpl.toolbar_items){\n",
       "        var name = mpl.toolbar_items[toolbar_ind][0];\n",
       "        var tooltip = mpl.toolbar_items[toolbar_ind][1];\n",
       "        var image = mpl.toolbar_items[toolbar_ind][2];\n",
       "        var method_name = mpl.toolbar_items[toolbar_ind][3];\n",
       "\n",
       "        if (!name) { continue; };\n",
       "\n",
       "        var button = $('<button class=\"btn btn-default\" href=\"#\" title=\"' + name + '\"><i class=\"fa ' + image + ' fa-lg\"></i></button>');\n",
       "        button.click(method_name, toolbar_event);\n",
       "        button.mouseover(tooltip, toolbar_mouse_event);\n",
       "        nav_element.append(button);\n",
       "    }\n",
       "\n",
       "    // Add the status bar.\n",
       "    var status_bar = $('<span class=\"mpl-message\" style=\"text-align:right; float: right;\"/>');\n",
       "    nav_element.append(status_bar);\n",
       "    this.message = status_bar[0];\n",
       "\n",
       "    // Add the close button to the window.\n",
       "    var buttongrp = $('<div class=\"btn-group inline pull-right\"></div>');\n",
       "    var button = $('<button class=\"btn btn-mini btn-primary\" href=\"#\" title=\"Stop Interaction\"><i class=\"fa fa-power-off icon-remove icon-large\"></i></button>');\n",
       "    button.click(function (evt) { fig.handle_close(fig, {}); } );\n",
       "    button.mouseover('Stop Interaction', toolbar_mouse_event);\n",
       "    buttongrp.append(button);\n",
       "    var titlebar = this.root.find($('.ui-dialog-titlebar'));\n",
       "    titlebar.prepend(buttongrp);\n",
       "}\n",
       "\n",
       "mpl.figure.prototype._root_extra_style = function(el){\n",
       "    var fig = this\n",
       "    el.on(\"remove\", function(){\n",
       "\tfig.close_ws(fig, {});\n",
       "    });\n",
       "}\n",
       "\n",
       "mpl.figure.prototype._canvas_extra_style = function(el){\n",
       "    // this is important to make the div 'focusable\n",
       "    el.attr('tabindex', 0)\n",
       "    // reach out to IPython and tell the keyboard manager to turn it's self\n",
       "    // off when our div gets focus\n",
       "\n",
       "    // location in version 3\n",
       "    if (IPython.notebook.keyboard_manager) {\n",
       "        IPython.notebook.keyboard_manager.register_events(el);\n",
       "    }\n",
       "    else {\n",
       "        // location in version 2\n",
       "        IPython.keyboard_manager.register_events(el);\n",
       "    }\n",
       "\n",
       "}\n",
       "\n",
       "mpl.figure.prototype._key_event_extra = function(event, name) {\n",
       "    var manager = IPython.notebook.keyboard_manager;\n",
       "    if (!manager)\n",
       "        manager = IPython.keyboard_manager;\n",
       "\n",
       "    // Check for shift+enter\n",
       "    if (event.shiftKey && event.which == 13) {\n",
       "        this.canvas_div.blur();\n",
       "        // select the cell after this one\n",
       "        var index = IPython.notebook.find_cell_index(this.cell_info[0]);\n",
       "        IPython.notebook.select(index + 1);\n",
       "    }\n",
       "}\n",
       "\n",
       "mpl.figure.prototype.handle_save = function(fig, msg) {\n",
       "    fig.ondownload(fig, null);\n",
       "}\n",
       "\n",
       "\n",
       "mpl.find_output_cell = function(html_output) {\n",
       "    // Return the cell and output element which can be found *uniquely* in the notebook.\n",
       "    // Note - this is a bit hacky, but it is done because the \"notebook_saving.Notebook\"\n",
       "    // IPython event is triggered only after the cells have been serialised, which for\n",
       "    // our purposes (turning an active figure into a static one), is too late.\n",
       "    var cells = IPython.notebook.get_cells();\n",
       "    var ncells = cells.length;\n",
       "    for (var i=0; i<ncells; i++) {\n",
       "        var cell = cells[i];\n",
       "        if (cell.cell_type === 'code'){\n",
       "            for (var j=0; j<cell.output_area.outputs.length; j++) {\n",
       "                var data = cell.output_area.outputs[j];\n",
       "                if (data.data) {\n",
       "                    // IPython >= 3 moved mimebundle to data attribute of output\n",
       "                    data = data.data;\n",
       "                }\n",
       "                if (data['text/html'] == html_output) {\n",
       "                    return [cell, data, j];\n",
       "                }\n",
       "            }\n",
       "        }\n",
       "    }\n",
       "}\n",
       "\n",
       "// Register the function which deals with the matplotlib target/channel.\n",
       "// The kernel may be null if the page has been refreshed.\n",
       "if (IPython.notebook.kernel != null) {\n",
       "    IPython.notebook.kernel.comm_manager.register_target('matplotlib', mpl.mpl_figure_comm);\n",
       "}\n"
      ],
      "text/plain": [
       "<IPython.core.display.Javascript object>"
      ]
     },
     "metadata": {},
     "output_type": "display_data"
    },
    {
     "data": {
      "text/html": [
       "<img src=\"data:image/png;base64,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\" width=\"350\">"
      ],
      "text/plain": [
       "<IPython.core.display.HTML object>"
      ]
     },
     "metadata": {},
     "output_type": "display_data"
    }
   ],
   "source": [
    "fig3, ax3 = plt.subplots(figsize=figsize)"
   ]
  },
  {
   "cell_type": "code",
   "execution_count": 16,
   "metadata": {
    "collapsed": false,
    "deletable": true,
    "editable": true,
    "extensions": {
     "jupyter_dashboards": {
      "version": 1,
      "views": {
       "grid_default": {
        "col": 6,
        "height": 12,
        "hidden": false,
        "row": 13,
        "width": 4
       },
       "report_default": {
        "hidden": false
       }
      }
     }
    }
   },
   "outputs": [
    {
     "data": {
      "application/javascript": [
       "/* Put everything inside the global mpl namespace */\n",
       "window.mpl = {};\n",
       "\n",
       "\n",
       "mpl.get_websocket_type = function() {\n",
       "    if (typeof(WebSocket) !== 'undefined') {\n",
       "        return WebSocket;\n",
       "    } else if (typeof(MozWebSocket) !== 'undefined') {\n",
       "        return MozWebSocket;\n",
       "    } else {\n",
       "        alert('Your browser does not have WebSocket support.' +\n",
       "              'Please try Chrome, Safari or Firefox ≥ 6. ' +\n",
       "              'Firefox 4 and 5 are also supported but you ' +\n",
       "              'have to enable WebSockets in about:config.');\n",
       "    };\n",
       "}\n",
       "\n",
       "mpl.figure = function(figure_id, websocket, ondownload, parent_element) {\n",
       "    this.id = figure_id;\n",
       "\n",
       "    this.ws = websocket;\n",
       "\n",
       "    this.supports_binary = (this.ws.binaryType != undefined);\n",
       "\n",
       "    if (!this.supports_binary) {\n",
       "        var warnings = document.getElementById(\"mpl-warnings\");\n",
       "        if (warnings) {\n",
       "            warnings.style.display = 'block';\n",
       "            warnings.textContent = (\n",
       "                \"This browser does not support binary websocket messages. \" +\n",
       "                    \"Performance may be slow.\");\n",
       "        }\n",
       "    }\n",
       "\n",
       "    this.imageObj = new Image();\n",
       "\n",
       "    this.context = undefined;\n",
       "    this.message = undefined;\n",
       "    this.canvas = undefined;\n",
       "    this.rubberband_canvas = undefined;\n",
       "    this.rubberband_context = undefined;\n",
       "    this.format_dropdown = undefined;\n",
       "\n",
       "    this.image_mode = 'full';\n",
       "\n",
       "    this.root = $('<div/>');\n",
       "    this._root_extra_style(this.root)\n",
       "    this.root.attr('style', 'display: inline-block');\n",
       "\n",
       "    $(parent_element).append(this.root);\n",
       "\n",
       "    this._init_header(this);\n",
       "    this._init_canvas(this);\n",
       "    this._init_toolbar(this);\n",
       "\n",
       "    var fig = this;\n",
       "\n",
       "    this.waiting = false;\n",
       "\n",
       "    this.ws.onopen =  function () {\n",
       "            fig.send_message(\"supports_binary\", {value: fig.supports_binary});\n",
       "            fig.send_message(\"send_image_mode\", {});\n",
       "            if (mpl.ratio != 1) {\n",
       "                fig.send_message(\"set_dpi_ratio\", {'dpi_ratio': mpl.ratio});\n",
       "            }\n",
       "            fig.send_message(\"refresh\", {});\n",
       "        }\n",
       "\n",
       "    this.imageObj.onload = function() {\n",
       "            if (fig.image_mode == 'full') {\n",
       "                // Full images could contain transparency (where diff images\n",
       "                // almost always do), so we need to clear the canvas so that\n",
       "                // there is no ghosting.\n",
       "                fig.context.clearRect(0, 0, fig.canvas.width, fig.canvas.height);\n",
       "            }\n",
       "            fig.context.drawImage(fig.imageObj, 0, 0);\n",
       "        };\n",
       "\n",
       "    this.imageObj.onunload = function() {\n",
       "        this.ws.close();\n",
       "    }\n",
       "\n",
       "    this.ws.onmessage = this._make_on_message_function(this);\n",
       "\n",
       "    this.ondownload = ondownload;\n",
       "}\n",
       "\n",
       "mpl.figure.prototype._init_header = function() {\n",
       "    var titlebar = $(\n",
       "        '<div class=\"ui-dialog-titlebar ui-widget-header ui-corner-all ' +\n",
       "        'ui-helper-clearfix\"/>');\n",
       "    var titletext = $(\n",
       "        '<div class=\"ui-dialog-title\" style=\"width: 100%; ' +\n",
       "        'text-align: center; padding: 3px;\"/>');\n",
       "    titlebar.append(titletext)\n",
       "    this.root.append(titlebar);\n",
       "    this.header = titletext[0];\n",
       "}\n",
       "\n",
       "\n",
       "\n",
       "mpl.figure.prototype._canvas_extra_style = function(canvas_div) {\n",
       "\n",
       "}\n",
       "\n",
       "\n",
       "mpl.figure.prototype._root_extra_style = function(canvas_div) {\n",
       "\n",
       "}\n",
       "\n",
       "mpl.figure.prototype._init_canvas = function() {\n",
       "    var fig = this;\n",
       "\n",
       "    var canvas_div = $('<div/>');\n",
       "\n",
       "    canvas_div.attr('style', 'position: relative; clear: both; outline: 0');\n",
       "\n",
       "    function canvas_keyboard_event(event) {\n",
       "        return fig.key_event(event, event['data']);\n",
       "    }\n",
       "\n",
       "    canvas_div.keydown('key_press', canvas_keyboard_event);\n",
       "    canvas_div.keyup('key_release', canvas_keyboard_event);\n",
       "    this.canvas_div = canvas_div\n",
       "    this._canvas_extra_style(canvas_div)\n",
       "    this.root.append(canvas_div);\n",
       "\n",
       "    var canvas = $('<canvas/>');\n",
       "    canvas.addClass('mpl-canvas');\n",
       "    canvas.attr('style', \"left: 0; top: 0; z-index: 0; outline: 0\")\n",
       "\n",
       "    this.canvas = canvas[0];\n",
       "    this.context = canvas[0].getContext(\"2d\");\n",
       "\n",
       "    var backingStore = this.context.backingStorePixelRatio ||\n",
       "\tthis.context.webkitBackingStorePixelRatio ||\n",
       "\tthis.context.mozBackingStorePixelRatio ||\n",
       "\tthis.context.msBackingStorePixelRatio ||\n",
       "\tthis.context.oBackingStorePixelRatio ||\n",
       "\tthis.context.backingStorePixelRatio || 1;\n",
       "\n",
       "    mpl.ratio = (window.devicePixelRatio || 1) / backingStore;\n",
       "\n",
       "    var rubberband = $('<canvas/>');\n",
       "    rubberband.attr('style', \"position: absolute; left: 0; top: 0; z-index: 1;\")\n",
       "\n",
       "    var pass_mouse_events = true;\n",
       "\n",
       "    canvas_div.resizable({\n",
       "        start: function(event, ui) {\n",
       "            pass_mouse_events = false;\n",
       "        },\n",
       "        resize: function(event, ui) {\n",
       "            fig.request_resize(ui.size.width, ui.size.height);\n",
       "        },\n",
       "        stop: function(event, ui) {\n",
       "            pass_mouse_events = true;\n",
       "            fig.request_resize(ui.size.width, ui.size.height);\n",
       "        },\n",
       "    });\n",
       "\n",
       "    function mouse_event_fn(event) {\n",
       "        if (pass_mouse_events)\n",
       "            return fig.mouse_event(event, event['data']);\n",
       "    }\n",
       "\n",
       "    rubberband.mousedown('button_press', mouse_event_fn);\n",
       "    rubberband.mouseup('button_release', mouse_event_fn);\n",
       "    // Throttle sequential mouse events to 1 every 20ms.\n",
       "    rubberband.mousemove('motion_notify', mouse_event_fn);\n",
       "\n",
       "    rubberband.mouseenter('figure_enter', mouse_event_fn);\n",
       "    rubberband.mouseleave('figure_leave', mouse_event_fn);\n",
       "\n",
       "    canvas_div.on(\"wheel\", function (event) {\n",
       "        event = event.originalEvent;\n",
       "        event['data'] = 'scroll'\n",
       "        if (event.deltaY < 0) {\n",
       "            event.step = 1;\n",
       "        } else {\n",
       "            event.step = -1;\n",
       "        }\n",
       "        mouse_event_fn(event);\n",
       "    });\n",
       "\n",
       "    canvas_div.append(canvas);\n",
       "    canvas_div.append(rubberband);\n",
       "\n",
       "    this.rubberband = rubberband;\n",
       "    this.rubberband_canvas = rubberband[0];\n",
       "    this.rubberband_context = rubberband[0].getContext(\"2d\");\n",
       "    this.rubberband_context.strokeStyle = \"#000000\";\n",
       "\n",
       "    this._resize_canvas = function(width, height) {\n",
       "        // Keep the size of the canvas, canvas container, and rubber band\n",
       "        // canvas in synch.\n",
       "        canvas_div.css('width', width)\n",
       "        canvas_div.css('height', height)\n",
       "\n",
       "        canvas.attr('width', width * mpl.ratio);\n",
       "        canvas.attr('height', height * mpl.ratio);\n",
       "        canvas.attr('style', 'width: ' + width + 'px; height: ' + height + 'px;');\n",
       "\n",
       "        rubberband.attr('width', width);\n",
       "        rubberband.attr('height', height);\n",
       "    }\n",
       "\n",
       "    // Set the figure to an initial 600x600px, this will subsequently be updated\n",
       "    // upon first draw.\n",
       "    this._resize_canvas(600, 600);\n",
       "\n",
       "    // Disable right mouse context menu.\n",
       "    $(this.rubberband_canvas).bind(\"contextmenu\",function(e){\n",
       "        return false;\n",
       "    });\n",
       "\n",
       "    function set_focus () {\n",
       "        canvas.focus();\n",
       "        canvas_div.focus();\n",
       "    }\n",
       "\n",
       "    window.setTimeout(set_focus, 100);\n",
       "}\n",
       "\n",
       "mpl.figure.prototype._init_toolbar = function() {\n",
       "    var fig = this;\n",
       "\n",
       "    var nav_element = $('<div/>')\n",
       "    nav_element.attr('style', 'width: 100%');\n",
       "    this.root.append(nav_element);\n",
       "\n",
       "    // Define a callback function for later on.\n",
       "    function toolbar_event(event) {\n",
       "        return fig.toolbar_button_onclick(event['data']);\n",
       "    }\n",
       "    function toolbar_mouse_event(event) {\n",
       "        return fig.toolbar_button_onmouseover(event['data']);\n",
       "    }\n",
       "\n",
       "    for(var toolbar_ind in mpl.toolbar_items) {\n",
       "        var name = mpl.toolbar_items[toolbar_ind][0];\n",
       "        var tooltip = mpl.toolbar_items[toolbar_ind][1];\n",
       "        var image = mpl.toolbar_items[toolbar_ind][2];\n",
       "        var method_name = mpl.toolbar_items[toolbar_ind][3];\n",
       "\n",
       "        if (!name) {\n",
       "            // put a spacer in here.\n",
       "            continue;\n",
       "        }\n",
       "        var button = $('<button/>');\n",
       "        button.addClass('ui-button ui-widget ui-state-default ui-corner-all ' +\n",
       "                        'ui-button-icon-only');\n",
       "        button.attr('role', 'button');\n",
       "        button.attr('aria-disabled', 'false');\n",
       "        button.click(method_name, toolbar_event);\n",
       "        button.mouseover(tooltip, toolbar_mouse_event);\n",
       "\n",
       "        var icon_img = $('<span/>');\n",
       "        icon_img.addClass('ui-button-icon-primary ui-icon');\n",
       "        icon_img.addClass(image);\n",
       "        icon_img.addClass('ui-corner-all');\n",
       "\n",
       "        var tooltip_span = $('<span/>');\n",
       "        tooltip_span.addClass('ui-button-text');\n",
       "        tooltip_span.html(tooltip);\n",
       "\n",
       "        button.append(icon_img);\n",
       "        button.append(tooltip_span);\n",
       "\n",
       "        nav_element.append(button);\n",
       "    }\n",
       "\n",
       "    var fmt_picker_span = $('<span/>');\n",
       "\n",
       "    var fmt_picker = $('<select/>');\n",
       "    fmt_picker.addClass('mpl-toolbar-option ui-widget ui-widget-content');\n",
       "    fmt_picker_span.append(fmt_picker);\n",
       "    nav_element.append(fmt_picker_span);\n",
       "    this.format_dropdown = fmt_picker[0];\n",
       "\n",
       "    for (var ind in mpl.extensions) {\n",
       "        var fmt = mpl.extensions[ind];\n",
       "        var option = $(\n",
       "            '<option/>', {selected: fmt === mpl.default_extension}).html(fmt);\n",
       "        fmt_picker.append(option)\n",
       "    }\n",
       "\n",
       "    // Add hover states to the ui-buttons\n",
       "    $( \".ui-button\" ).hover(\n",
       "        function() { $(this).addClass(\"ui-state-hover\");},\n",
       "        function() { $(this).removeClass(\"ui-state-hover\");}\n",
       "    );\n",
       "\n",
       "    var status_bar = $('<span class=\"mpl-message\"/>');\n",
       "    nav_element.append(status_bar);\n",
       "    this.message = status_bar[0];\n",
       "}\n",
       "\n",
       "mpl.figure.prototype.request_resize = function(x_pixels, y_pixels) {\n",
       "    // Request matplotlib to resize the figure. Matplotlib will then trigger a resize in the client,\n",
       "    // which will in turn request a refresh of the image.\n",
       "    this.send_message('resize', {'width': x_pixels, 'height': y_pixels});\n",
       "}\n",
       "\n",
       "mpl.figure.prototype.send_message = function(type, properties) {\n",
       "    properties['type'] = type;\n",
       "    properties['figure_id'] = this.id;\n",
       "    this.ws.send(JSON.stringify(properties));\n",
       "}\n",
       "\n",
       "mpl.figure.prototype.send_draw_message = function() {\n",
       "    if (!this.waiting) {\n",
       "        this.waiting = true;\n",
       "        this.ws.send(JSON.stringify({type: \"draw\", figure_id: this.id}));\n",
       "    }\n",
       "}\n",
       "\n",
       "\n",
       "mpl.figure.prototype.handle_save = function(fig, msg) {\n",
       "    var format_dropdown = fig.format_dropdown;\n",
       "    var format = format_dropdown.options[format_dropdown.selectedIndex].value;\n",
       "    fig.ondownload(fig, format);\n",
       "}\n",
       "\n",
       "\n",
       "mpl.figure.prototype.handle_resize = function(fig, msg) {\n",
       "    var size = msg['size'];\n",
       "    if (size[0] != fig.canvas.width || size[1] != fig.canvas.height) {\n",
       "        fig._resize_canvas(size[0], size[1]);\n",
       "        fig.send_message(\"refresh\", {});\n",
       "    };\n",
       "}\n",
       "\n",
       "mpl.figure.prototype.handle_rubberband = function(fig, msg) {\n",
       "    var x0 = msg['x0'] / mpl.ratio;\n",
       "    var y0 = (fig.canvas.height - msg['y0']) / mpl.ratio;\n",
       "    var x1 = msg['x1'] / mpl.ratio;\n",
       "    var y1 = (fig.canvas.height - msg['y1']) / mpl.ratio;\n",
       "    x0 = Math.floor(x0) + 0.5;\n",
       "    y0 = Math.floor(y0) + 0.5;\n",
       "    x1 = Math.floor(x1) + 0.5;\n",
       "    y1 = Math.floor(y1) + 0.5;\n",
       "    var min_x = Math.min(x0, x1);\n",
       "    var min_y = Math.min(y0, y1);\n",
       "    var width = Math.abs(x1 - x0);\n",
       "    var height = Math.abs(y1 - y0);\n",
       "\n",
       "    fig.rubberband_context.clearRect(\n",
       "        0, 0, fig.canvas.width, fig.canvas.height);\n",
       "\n",
       "    fig.rubberband_context.strokeRect(min_x, min_y, width, height);\n",
       "}\n",
       "\n",
       "mpl.figure.prototype.handle_figure_label = function(fig, msg) {\n",
       "    // Updates the figure title.\n",
       "    fig.header.textContent = msg['label'];\n",
       "}\n",
       "\n",
       "mpl.figure.prototype.handle_cursor = function(fig, msg) {\n",
       "    var cursor = msg['cursor'];\n",
       "    switch(cursor)\n",
       "    {\n",
       "    case 0:\n",
       "        cursor = 'pointer';\n",
       "        break;\n",
       "    case 1:\n",
       "        cursor = 'default';\n",
       "        break;\n",
       "    case 2:\n",
       "        cursor = 'crosshair';\n",
       "        break;\n",
       "    case 3:\n",
       "        cursor = 'move';\n",
       "        break;\n",
       "    }\n",
       "    fig.rubberband_canvas.style.cursor = cursor;\n",
       "}\n",
       "\n",
       "mpl.figure.prototype.handle_message = function(fig, msg) {\n",
       "    fig.message.textContent = msg['message'];\n",
       "}\n",
       "\n",
       "mpl.figure.prototype.handle_draw = function(fig, msg) {\n",
       "    // Request the server to send over a new figure.\n",
       "    fig.send_draw_message();\n",
       "}\n",
       "\n",
       "mpl.figure.prototype.handle_image_mode = function(fig, msg) {\n",
       "    fig.image_mode = msg['mode'];\n",
       "}\n",
       "\n",
       "mpl.figure.prototype.updated_canvas_event = function() {\n",
       "    // Called whenever the canvas gets updated.\n",
       "    this.send_message(\"ack\", {});\n",
       "}\n",
       "\n",
       "// A function to construct a web socket function for onmessage handling.\n",
       "// Called in the figure constructor.\n",
       "mpl.figure.prototype._make_on_message_function = function(fig) {\n",
       "    return function socket_on_message(evt) {\n",
       "        if (evt.data instanceof Blob) {\n",
       "            /* FIXME: We get \"Resource interpreted as Image but\n",
       "             * transferred with MIME type text/plain:\" errors on\n",
       "             * Chrome.  But how to set the MIME type?  It doesn't seem\n",
       "             * to be part of the websocket stream */\n",
       "            evt.data.type = \"image/png\";\n",
       "\n",
       "            /* Free the memory for the previous frames */\n",
       "            if (fig.imageObj.src) {\n",
       "                (window.URL || window.webkitURL).revokeObjectURL(\n",
       "                    fig.imageObj.src);\n",
       "            }\n",
       "\n",
       "            fig.imageObj.src = (window.URL || window.webkitURL).createObjectURL(\n",
       "                evt.data);\n",
       "            fig.updated_canvas_event();\n",
       "            fig.waiting = false;\n",
       "            return;\n",
       "        }\n",
       "        else if (typeof evt.data === 'string' && evt.data.slice(0, 21) == \"data:image/png;base64\") {\n",
       "            fig.imageObj.src = evt.data;\n",
       "            fig.updated_canvas_event();\n",
       "            fig.waiting = false;\n",
       "            return;\n",
       "        }\n",
       "\n",
       "        var msg = JSON.parse(evt.data);\n",
       "        var msg_type = msg['type'];\n",
       "\n",
       "        // Call the  \"handle_{type}\" callback, which takes\n",
       "        // the figure and JSON message as its only arguments.\n",
       "        try {\n",
       "            var callback = fig[\"handle_\" + msg_type];\n",
       "        } catch (e) {\n",
       "            console.log(\"No handler for the '\" + msg_type + \"' message type: \", msg);\n",
       "            return;\n",
       "        }\n",
       "\n",
       "        if (callback) {\n",
       "            try {\n",
       "                // console.log(\"Handling '\" + msg_type + \"' message: \", msg);\n",
       "                callback(fig, msg);\n",
       "            } catch (e) {\n",
       "                console.log(\"Exception inside the 'handler_\" + msg_type + \"' callback:\", e, e.stack, msg);\n",
       "            }\n",
       "        }\n",
       "    };\n",
       "}\n",
       "\n",
       "// from http://stackoverflow.com/questions/1114465/getting-mouse-location-in-canvas\n",
       "mpl.findpos = function(e) {\n",
       "    //this section is from http://www.quirksmode.org/js/events_properties.html\n",
       "    var targ;\n",
       "    if (!e)\n",
       "        e = window.event;\n",
       "    if (e.target)\n",
       "        targ = e.target;\n",
       "    else if (e.srcElement)\n",
       "        targ = e.srcElement;\n",
       "    if (targ.nodeType == 3) // defeat Safari bug\n",
       "        targ = targ.parentNode;\n",
       "\n",
       "    // jQuery normalizes the pageX and pageY\n",
       "    // pageX,Y are the mouse positions relative to the document\n",
       "    // offset() returns the position of the element relative to the document\n",
       "    var x = e.pageX - $(targ).offset().left;\n",
       "    var y = e.pageY - $(targ).offset().top;\n",
       "\n",
       "    return {\"x\": x, \"y\": y};\n",
       "};\n",
       "\n",
       "/*\n",
       " * return a copy of an object with only non-object keys\n",
       " * we need this to avoid circular references\n",
       " * http://stackoverflow.com/a/24161582/3208463\n",
       " */\n",
       "function simpleKeys (original) {\n",
       "  return Object.keys(original).reduce(function (obj, key) {\n",
       "    if (typeof original[key] !== 'object')\n",
       "        obj[key] = original[key]\n",
       "    return obj;\n",
       "  }, {});\n",
       "}\n",
       "\n",
       "mpl.figure.prototype.mouse_event = function(event, name) {\n",
       "    var canvas_pos = mpl.findpos(event)\n",
       "\n",
       "    if (name === 'button_press')\n",
       "    {\n",
       "        this.canvas.focus();\n",
       "        this.canvas_div.focus();\n",
       "    }\n",
       "\n",
       "    var x = canvas_pos.x * mpl.ratio;\n",
       "    var y = canvas_pos.y * mpl.ratio;\n",
       "\n",
       "    this.send_message(name, {x: x, y: y, button: event.button,\n",
       "                             step: event.step,\n",
       "                             guiEvent: simpleKeys(event)});\n",
       "\n",
       "    /* This prevents the web browser from automatically changing to\n",
       "     * the text insertion cursor when the button is pressed.  We want\n",
       "     * to control all of the cursor setting manually through the\n",
       "     * 'cursor' event from matplotlib */\n",
       "    event.preventDefault();\n",
       "    return false;\n",
       "}\n",
       "\n",
       "mpl.figure.prototype._key_event_extra = function(event, name) {\n",
       "    // Handle any extra behaviour associated with a key event\n",
       "}\n",
       "\n",
       "mpl.figure.prototype.key_event = function(event, name) {\n",
       "\n",
       "    // Prevent repeat events\n",
       "    if (name == 'key_press')\n",
       "    {\n",
       "        if (event.which === this._key)\n",
       "            return;\n",
       "        else\n",
       "            this._key = event.which;\n",
       "    }\n",
       "    if (name == 'key_release')\n",
       "        this._key = null;\n",
       "\n",
       "    var value = '';\n",
       "    if (event.ctrlKey && event.which != 17)\n",
       "        value += \"ctrl+\";\n",
       "    if (event.altKey && event.which != 18)\n",
       "        value += \"alt+\";\n",
       "    if (event.shiftKey && event.which != 16)\n",
       "        value += \"shift+\";\n",
       "\n",
       "    value += 'k';\n",
       "    value += event.which.toString();\n",
       "\n",
       "    this._key_event_extra(event, name);\n",
       "\n",
       "    this.send_message(name, {key: value,\n",
       "                             guiEvent: simpleKeys(event)});\n",
       "    return false;\n",
       "}\n",
       "\n",
       "mpl.figure.prototype.toolbar_button_onclick = function(name) {\n",
       "    if (name == 'download') {\n",
       "        this.handle_save(this, null);\n",
       "    } else {\n",
       "        this.send_message(\"toolbar_button\", {name: name});\n",
       "    }\n",
       "};\n",
       "\n",
       "mpl.figure.prototype.toolbar_button_onmouseover = function(tooltip) {\n",
       "    this.message.textContent = tooltip;\n",
       "};\n",
       "mpl.toolbar_items = [[\"Home\", \"Reset original view\", \"fa fa-home icon-home\", \"home\"], [\"Back\", \"Back to  previous view\", \"fa fa-arrow-left icon-arrow-left\", \"back\"], [\"Forward\", \"Forward to next view\", \"fa fa-arrow-right icon-arrow-right\", \"forward\"], [\"\", \"\", \"\", \"\"], [\"Pan\", \"Pan axes with left mouse, zoom with right\", \"fa fa-arrows icon-move\", \"pan\"], [\"Zoom\", \"Zoom to rectangle\", \"fa fa-square-o icon-check-empty\", \"zoom\"], [\"\", \"\", \"\", \"\"], [\"Download\", \"Download plot\", \"fa fa-floppy-o icon-save\", \"download\"]];\n",
       "\n",
       "mpl.extensions = [\"eps\", \"jpeg\", \"pdf\", \"png\", \"ps\", \"raw\", \"svg\", \"tif\"];\n",
       "\n",
       "mpl.default_extension = \"png\";var comm_websocket_adapter = function(comm) {\n",
       "    // Create a \"websocket\"-like object which calls the given IPython comm\n",
       "    // object with the appropriate methods. Currently this is a non binary\n",
       "    // socket, so there is still some room for performance tuning.\n",
       "    var ws = {};\n",
       "\n",
       "    ws.close = function() {\n",
       "        comm.close()\n",
       "    };\n",
       "    ws.send = function(m) {\n",
       "        //console.log('sending', m);\n",
       "        comm.send(m);\n",
       "    };\n",
       "    // Register the callback with on_msg.\n",
       "    comm.on_msg(function(msg) {\n",
       "        //console.log('receiving', msg['content']['data'], msg);\n",
       "        // Pass the mpl event to the overriden (by mpl) onmessage function.\n",
       "        ws.onmessage(msg['content']['data'])\n",
       "    });\n",
       "    return ws;\n",
       "}\n",
       "\n",
       "mpl.mpl_figure_comm = function(comm, msg) {\n",
       "    // This is the function which gets called when the mpl process\n",
       "    // starts-up an IPython Comm through the \"matplotlib\" channel.\n",
       "\n",
       "    var id = msg.content.data.id;\n",
       "    // Get hold of the div created by the display call when the Comm\n",
       "    // socket was opened in Python.\n",
       "    var element = $(\"#\" + id);\n",
       "    var ws_proxy = comm_websocket_adapter(comm)\n",
       "\n",
       "    function ondownload(figure, format) {\n",
       "        window.open(figure.imageObj.src);\n",
       "    }\n",
       "\n",
       "    var fig = new mpl.figure(id, ws_proxy,\n",
       "                           ondownload,\n",
       "                           element.get(0));\n",
       "\n",
       "    // Call onopen now - mpl needs it, as it is assuming we've passed it a real\n",
       "    // web socket which is closed, not our websocket->open comm proxy.\n",
       "    ws_proxy.onopen();\n",
       "\n",
       "    fig.parent_element = element.get(0);\n",
       "    fig.cell_info = mpl.find_output_cell(\"<div id='\" + id + \"'></div>\");\n",
       "    if (!fig.cell_info) {\n",
       "        console.error(\"Failed to find cell for figure\", id, fig);\n",
       "        return;\n",
       "    }\n",
       "\n",
       "    var output_index = fig.cell_info[2]\n",
       "    var cell = fig.cell_info[0];\n",
       "\n",
       "};\n",
       "\n",
       "mpl.figure.prototype.handle_close = function(fig, msg) {\n",
       "    var width = fig.canvas.width/mpl.ratio\n",
       "    fig.root.unbind('remove')\n",
       "\n",
       "    // Update the output cell to use the data from the current canvas.\n",
       "    fig.push_to_output();\n",
       "    var dataURL = fig.canvas.toDataURL();\n",
       "    // Re-enable the keyboard manager in IPython - without this line, in FF,\n",
       "    // the notebook keyboard shortcuts fail.\n",
       "    IPython.keyboard_manager.enable()\n",
       "    $(fig.parent_element).html('<img src=\"' + dataURL + '\" width=\"' + width + '\">');\n",
       "    fig.close_ws(fig, msg);\n",
       "}\n",
       "\n",
       "mpl.figure.prototype.close_ws = function(fig, msg){\n",
       "    fig.send_message('closing', msg);\n",
       "    // fig.ws.close()\n",
       "}\n",
       "\n",
       "mpl.figure.prototype.push_to_output = function(remove_interactive) {\n",
       "    // Turn the data on the canvas into data in the output cell.\n",
       "    var width = this.canvas.width/mpl.ratio\n",
       "    var dataURL = this.canvas.toDataURL();\n",
       "    this.cell_info[1]['text/html'] = '<img src=\"' + dataURL + '\" width=\"' + width + '\">';\n",
       "}\n",
       "\n",
       "mpl.figure.prototype.updated_canvas_event = function() {\n",
       "    // Tell IPython that the notebook contents must change.\n",
       "    IPython.notebook.set_dirty(true);\n",
       "    this.send_message(\"ack\", {});\n",
       "    var fig = this;\n",
       "    // Wait a second, then push the new image to the DOM so\n",
       "    // that it is saved nicely (might be nice to debounce this).\n",
       "    setTimeout(function () { fig.push_to_output() }, 1000);\n",
       "}\n",
       "\n",
       "mpl.figure.prototype._init_toolbar = function() {\n",
       "    var fig = this;\n",
       "\n",
       "    var nav_element = $('<div/>')\n",
       "    nav_element.attr('style', 'width: 100%');\n",
       "    this.root.append(nav_element);\n",
       "\n",
       "    // Define a callback function for later on.\n",
       "    function toolbar_event(event) {\n",
       "        return fig.toolbar_button_onclick(event['data']);\n",
       "    }\n",
       "    function toolbar_mouse_event(event) {\n",
       "        return fig.toolbar_button_onmouseover(event['data']);\n",
       "    }\n",
       "\n",
       "    for(var toolbar_ind in mpl.toolbar_items){\n",
       "        var name = mpl.toolbar_items[toolbar_ind][0];\n",
       "        var tooltip = mpl.toolbar_items[toolbar_ind][1];\n",
       "        var image = mpl.toolbar_items[toolbar_ind][2];\n",
       "        var method_name = mpl.toolbar_items[toolbar_ind][3];\n",
       "\n",
       "        if (!name) { continue; };\n",
       "\n",
       "        var button = $('<button class=\"btn btn-default\" href=\"#\" title=\"' + name + '\"><i class=\"fa ' + image + ' fa-lg\"></i></button>');\n",
       "        button.click(method_name, toolbar_event);\n",
       "        button.mouseover(tooltip, toolbar_mouse_event);\n",
       "        nav_element.append(button);\n",
       "    }\n",
       "\n",
       "    // Add the status bar.\n",
       "    var status_bar = $('<span class=\"mpl-message\" style=\"text-align:right; float: right;\"/>');\n",
       "    nav_element.append(status_bar);\n",
       "    this.message = status_bar[0];\n",
       "\n",
       "    // Add the close button to the window.\n",
       "    var buttongrp = $('<div class=\"btn-group inline pull-right\"></div>');\n",
       "    var button = $('<button class=\"btn btn-mini btn-primary\" href=\"#\" title=\"Stop Interaction\"><i class=\"fa fa-power-off icon-remove icon-large\"></i></button>');\n",
       "    button.click(function (evt) { fig.handle_close(fig, {}); } );\n",
       "    button.mouseover('Stop Interaction', toolbar_mouse_event);\n",
       "    buttongrp.append(button);\n",
       "    var titlebar = this.root.find($('.ui-dialog-titlebar'));\n",
       "    titlebar.prepend(buttongrp);\n",
       "}\n",
       "\n",
       "mpl.figure.prototype._root_extra_style = function(el){\n",
       "    var fig = this\n",
       "    el.on(\"remove\", function(){\n",
       "\tfig.close_ws(fig, {});\n",
       "    });\n",
       "}\n",
       "\n",
       "mpl.figure.prototype._canvas_extra_style = function(el){\n",
       "    // this is important to make the div 'focusable\n",
       "    el.attr('tabindex', 0)\n",
       "    // reach out to IPython and tell the keyboard manager to turn it's self\n",
       "    // off when our div gets focus\n",
       "\n",
       "    // location in version 3\n",
       "    if (IPython.notebook.keyboard_manager) {\n",
       "        IPython.notebook.keyboard_manager.register_events(el);\n",
       "    }\n",
       "    else {\n",
       "        // location in version 2\n",
       "        IPython.keyboard_manager.register_events(el);\n",
       "    }\n",
       "\n",
       "}\n",
       "\n",
       "mpl.figure.prototype._key_event_extra = function(event, name) {\n",
       "    var manager = IPython.notebook.keyboard_manager;\n",
       "    if (!manager)\n",
       "        manager = IPython.keyboard_manager;\n",
       "\n",
       "    // Check for shift+enter\n",
       "    if (event.shiftKey && event.which == 13) {\n",
       "        this.canvas_div.blur();\n",
       "        // select the cell after this one\n",
       "        var index = IPython.notebook.find_cell_index(this.cell_info[0]);\n",
       "        IPython.notebook.select(index + 1);\n",
       "    }\n",
       "}\n",
       "\n",
       "mpl.figure.prototype.handle_save = function(fig, msg) {\n",
       "    fig.ondownload(fig, null);\n",
       "}\n",
       "\n",
       "\n",
       "mpl.find_output_cell = function(html_output) {\n",
       "    // Return the cell and output element which can be found *uniquely* in the notebook.\n",
       "    // Note - this is a bit hacky, but it is done because the \"notebook_saving.Notebook\"\n",
       "    // IPython event is triggered only after the cells have been serialised, which for\n",
       "    // our purposes (turning an active figure into a static one), is too late.\n",
       "    var cells = IPython.notebook.get_cells();\n",
       "    var ncells = cells.length;\n",
       "    for (var i=0; i<ncells; i++) {\n",
       "        var cell = cells[i];\n",
       "        if (cell.cell_type === 'code'){\n",
       "            for (var j=0; j<cell.output_area.outputs.length; j++) {\n",
       "                var data = cell.output_area.outputs[j];\n",
       "                if (data.data) {\n",
       "                    // IPython >= 3 moved mimebundle to data attribute of output\n",
       "                    data = data.data;\n",
       "                }\n",
       "                if (data['text/html'] == html_output) {\n",
       "                    return [cell, data, j];\n",
       "                }\n",
       "            }\n",
       "        }\n",
       "    }\n",
       "}\n",
       "\n",
       "// Register the function which deals with the matplotlib target/channel.\n",
       "// The kernel may be null if the page has been refreshed.\n",
       "if (IPython.notebook.kernel != null) {\n",
       "    IPython.notebook.kernel.comm_manager.register_target('matplotlib', mpl.mpl_figure_comm);\n",
       "}\n"
      ],
      "text/plain": [
       "<IPython.core.display.Javascript object>"
      ]
     },
     "metadata": {},
     "output_type": "display_data"
    },
    {
     "data": {
      "text/html": [
       "<img src=\"data:image/png;base64,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\" width=\"350\">"
      ],
      "text/plain": [
       "<IPython.core.display.HTML object>"
      ]
     },
     "metadata": {},
     "output_type": "display_data"
    }
   ],
   "source": [
    "fig4, ax4 = plt.subplots(figsize=figsize)"
   ]
  },
  {
   "cell_type": "code",
   "execution_count": 17,
   "metadata": {
    "collapsed": true,
    "deletable": true,
    "editable": true,
    "extensions": {
     "jupyter_dashboards": {
      "version": 1,
      "views": {
       "grid_default": {
        "hidden": true
       },
       "report_default": {}
      }
     }
    }
   },
   "outputs": [],
   "source": [
    "for fig in [fig1, fig2, fig3, fig4]:\n",
    "    fig.subplots_adjust(left=0.2, bottom=0.2)"
   ]
  },
  {
   "cell_type": "code",
   "execution_count": 18,
   "metadata": {
    "collapsed": false,
    "deletable": true,
    "editable": true,
    "extensions": {
     "jupyter_dashboards": {
      "version": 1,
      "views": {
       "grid_default": {
        "col": 0,
        "height": 4,
        "hidden": false,
        "row": 37,
        "width": 4
       },
       "report_default": {
        "hidden": true
       }
      }
     }
    }
   },
   "outputs": [],
   "source": [
    "AXES = OrderedDict(ax1=ax1, ax2=ax2, ax3=ax3, ax4=ax4)"
   ]
  },
  {
   "cell_type": "code",
   "execution_count": 19,
   "metadata": {
    "collapsed": false,
    "deletable": true,
    "editable": true,
    "extensions": {
     "jupyter_dashboards": {
      "version": 1,
      "views": {
       "grid_default": {
        "col": 0,
        "height": 2,
        "hidden": false,
        "row": 25,
        "width": 10
       },
       "report_default": {
        "hidden": false
       }
      }
     }
    }
   },
   "outputs": [
    {
     "data": {
      "application/vnd.jupyter.widget-view+json": {
       "model_id": "b6c44c2f60ee4560b4b07f5821f9d30d"
      }
     },
     "metadata": {},
     "output_type": "display_data"
    }
   ],
   "source": [
    "message_widget"
   ]
  }
 ],
 "metadata": {
  "anaconda-cloud": {},
  "extensions": {
   "jupyter_dashboards": {
    "activeView": "grid_default",
    "version": 1,
    "views": {
     "grid_default": {
      "cellMargin": 10,
      "defaultCellHeight": 20,
      "maxColumns": 12,
      "name": "grid",
      "type": "grid"
     },
     "report_default": {
      "name": "report",
      "type": "report"
     }
    }
   }
  },
  "kernelspec": {
   "display_name": "Python 3",
   "language": "python",
   "name": "python3"
  },
  "language_info": {
   "codemirror_mode": {
    "name": "ipython",
    "version": 3
   },
   "file_extension": ".py",
   "mimetype": "text/x-python",
   "name": "python",
   "nbconvert_exporter": "python",
   "pygments_lexer": "ipython3",
   "version": "3.6.1"
  },
  "widgets": {
   "state": {
    "072bfd30733740398edd54e2c2165cbb": {
     "views": [
      {
       "cell_index": 11
      }
     ]
    },
    "0793123681d6437783ccdfe37f54fc63": {
     "views": [
      {
       "cell_index": 13
      }
     ]
    },
    "0a1f4028fc554878aff20ee0eb83470c": {
     "views": [
      {
       "cell_index": 9
      }
     ]
    },
    "0d39d0003dbe48ad81e81483c8cc67c4": {
     "views": [
      {
       "cell_index": 11
      }
     ]
    },
    "0e24ac5a30344da5b43c070a50a71477": {
     "views": [
      {
       "cell_index": 13
      }
     ]
    },
    "0e51ed610cef4ca49f6b3f1f207cb6df": {
     "views": [
      {
       "cell_index": 13
      }
     ]
    },
    "0ef17a7e30974192b00cccefb8924b7b": {
     "views": [
      {
       "cell_index": 13
      }
     ]
    },
    "145266230418484ea96fa9d3b4128623": {
     "views": [
      {
       "cell_index": 13
      }
     ]
    },
    "18a7f55d93884402b63d3472fc144e51": {
     "views": [
      {
       "cell_index": 5
      }
     ]
    },
    "24439e668f05443fbbc1602c843b9a88": {
     "views": [
      {
       "cell_index": 11
      }
     ]
    },
    "2467612db6894164a7e426f5819087dc": {
     "views": [
      {
       "cell_index": 11
      }
     ]
    },
    "2508ba11b2214f70b39330a0b77ac5b6": {
     "views": [
      {
       "cell_index": 9
      }
     ]
    },
    "253282e7222b4118828cb7767a8c71ec": {
     "views": [
      {
       "cell_index": 11
      }
     ]
    },
    "28e4749716d2426fa5c1580ebbe8d2be": {
     "views": [
      {
       "cell_index": 7
      }
     ]
    },
    "2991451571b64014b037b4f0488e5ae0": {
     "views": [
      {
       "cell_index": 11
      }
     ]
    },
    "2c1062f573fc487c89b6e8d9613dc482": {
     "views": [
      {
       "cell_index": 5
      }
     ]
    },
    "2ec61f20e0d045f1b6c2fc2aee65893d": {
     "views": [
      {
       "cell_index": 7
      }
     ]
    },
    "2f79bed956bf47deb19b683b868d17bd": {
     "views": [
      {
       "cell_index": 13
      }
     ]
    },
    "315a2cc2f84941e18a7b6094708e7e0b": {
     "views": [
      {
       "cell_index": 15
      }
     ]
    },
    "375105929e714f509b17b1810629237b": {
     "views": [
      {
       "cell_index": 15
      }
     ]
    },
    "43addfc9ce1348399416e2d0741acef2": {
     "views": [
      {
       "cell_index": 7
      }
     ]
    },
    "46fe2f73bb7243419262124cda7b8b32": {
     "views": [
      {
       "cell_index": 13
      }
     ]
    },
    "47df274aadde46a092c890bd428da28f": {
     "views": [
      {
       "cell_index": 5
      }
     ]
    },
    "49070fb467044ddd967043b0442c0d73": {
     "views": [
      {
       "cell_index": 5
      }
     ]
    },
    "4ebbdf87b2c94ffdb4eadf5fe8ba3e74": {
     "views": [
      {
       "cell_index": 13
      }
     ]
    },
    "4f90bc63f05c45cca672e054376706bd": {
     "views": [
      {
       "cell_index": 7
      }
     ]
    },
    "52830e9759864db88c41df0f6ff0cb9e": {
     "views": [
      {
       "cell_index": 7
      }
     ]
    },
    "55d5a833bf2947389069bf3719b00a95": {
     "views": [
      {
       "cell_index": 9
      },
      {
       "cell_index": 9
      }
     ]
    },
    "56a523424b154f66981b9bf9f71252ac": {
     "views": [
      {
       "cell_index": 13
      }
     ]
    },
    "57b102675c1743f9a7b13d78ca89bc9f": {
     "views": [
      {
       "cell_index": 15
      }
     ]
    },
    "5c3d8fd13866450bba11969f63118cbb": {
     "views": [
      {
       "cell_index": 7
      }
     ]
    },
    "5da527c5eab14d6caa1de6cee4d51b75": {
     "views": [
      {
       "cell_index": 5
      }
     ]
    },
    "60d2804264174a438d8b4d60eb5910ab": {
     "views": [
      {
       "cell_index": 15
      }
     ]
    },
    "62524d30d1dc476293483229a3c6dde9": {
     "views": [
      {
       "cell_index": 7
      }
     ]
    },
    "62dc47814b574356b4549a5377fbc1a7": {
     "views": [
      {
       "cell_index": 9
      }
     ]
    },
    "6305515d0be34e04b1ac00de6fb0829f": {
     "views": [
      {
       "cell_index": 9
      }
     ]
    },
    "6c395a3e8eb54280b4c42bfe63a6b879": {
     "views": [
      {
       "cell_index": 9
      }
     ]
    },
    "6ea0234ccfe24e67b2bd268010947ab1": {
     "views": [
      {
       "cell_index": 5
      }
     ]
    },
    "704b9c734ce24350a61b2eff9465eafe": {
     "views": [
      {
       "cell_index": 7
      }
     ]
    },
    "73d0b7e2b2ec44b8b95081be684840c2": {
     "views": [
      {
       "cell_index": 15
      }
     ]
    },
    "74d5f279cd1d447e9e662c52af3a31a1": {
     "views": [
      {
       "cell_index": 5
      }
     ]
    },
    "75b1e90c83c340d0aed738d7d999ef7a": {
     "views": [
      {
       "cell_index": 7
      }
     ]
    },
    "78e8c5db6db249078b371e98da3955cf": {
     "views": [
      {
       "cell_index": 15
      }
     ]
    },
    "7972b050f8114b928d8d460b3b4481ea": {
     "views": [
      {
       "cell_index": 13
      }
     ]
    },
    "798ccdc0ba724c298c83556f6d0e02f0": {
     "views": [
      {
       "cell_index": 13
      }
     ]
    },
    "79ab9ce45a3e4437b607f77ab8d17032": {
     "views": [
      {
       "cell_index": 5
      }
     ]
    },
    "7c26d3479cae4a8b906adebc238514f7": {
     "views": [
      {
       "cell_index": 7
      }
     ]
    },
    "81138056395745ec8f808c533abacf7a": {
     "views": [
      {
       "cell_index": 7
      }
     ]
    },
    "8251118f21f54e5bb6fe1ad2378823ad": {
     "views": [
      {
       "cell_index": 9
      }
     ]
    },
    "83d48138ddfb43f59075ab1e6011fa4c": {
     "views": [
      {
       "cell_index": 9
      },
      {
       "cell_index": 9
      }
     ]
    },
    "84d8aba2d297474b97f2663ad0ef4e6c": {
     "views": [
      {
       "cell_index": 5
      }
     ]
    },
    "85b6cc04f0924de0a723cb427daf3061": {
     "views": [
      {
       "cell_index": 7
      },
      {
       "cell_index": 7
      }
     ]
    },
    "876da6b70ef048a3ae149ad7c54d2341": {
     "views": [
      {
       "cell_index": 5
      }
     ]
    },
    "8b43f85af6964447a093dd191adc8e45": {
     "views": [
      {
       "cell_index": 13
      }
     ]
    },
    "8c6c7bf465b84f3882a11386bdda79eb": {
     "views": [
      {
       "cell_index": 13
      }
     ]
    },
    "8cb06536168548d2a81fd9db19a3d2ab": {
     "views": [
      {
       "cell_index": 5
      }
     ]
    },
    "9329e6d12cbf4b98bc4b73b44b1504f7": {
     "views": [
      {
       "cell_index": 15
      }
     ]
    },
    "947d88807a9643159e47aa95e598c8c0": {
     "views": [
      {
       "cell_index": 5
      },
      {
       "cell_index": 5
      }
     ]
    },
    "97dcde95ad7d406dbff4aa211fec3fb0": {
     "views": [
      {
       "cell_index": 5
      },
      {
       "cell_index": 7
      }
     ]
    },
    "9bf45338e8134500b5440b0e80873f93": {
     "views": [
      {
       "cell_index": 9
      },
      {
       "cell_index": 9
      },
      {
       "cell_index": 9
      }
     ]
    },
    "a43b4bc6dbba4bf8ae0c28cfad8351f6": {
     "views": [
      {
       "cell_index": 7
      }
     ]
    },
    "a6de0ef2cd2d4590a33f2def2046e3c2": {
     "views": [
      {
       "cell_index": 13
      }
     ]
    },
    "a7f0a66af9474ae1b290f7a0cd3b7193": {
     "views": [
      {
       "cell_index": 15
      }
     ]
    },
    "a9fc1ffe96674ea3abcb849c302e9430": {
     "views": [
      {
       "cell_index": 13
      }
     ]
    },
    "abfed95e42b24cba9f848dfbcf6e23ed": {
     "views": [
      {
       "cell_index": 11
      }
     ]
    },
    "adeedc8c420449bb9fe1153ccf33e976": {
     "views": [
      {
       "cell_index": 5
      }
     ]
    },
    "b00afb7bd01e486bbb4bc4ccdcba1cb8": {
     "views": [
      {
       "cell_index": 7
      }
     ]
    },
    "b3748a3712ad43c2b6ed1c67a5ebeb88": {
     "views": [
      {
       "cell_index": 7
      }
     ]
    },
    "b48b905cbd73479390d2f7c8c1e31cb4": {
     "views": [
      {
       "cell_index": 13
      }
     ]
    },
    "ba093135995d45f6ac824d888debfb99": {
     "views": [
      {
       "cell_index": 7
      }
     ]
    },
    "bb48841d0d7040eb8cc49f3a49f00f93": {
     "views": [
      {
       "cell_index": 7
      }
     ]
    },
    "bd3a06860c4748b6abaec76a5c8665a8": {
     "views": [
      {
       "cell_index": 15
      }
     ]
    },
    "bf4820f2b6944835963555c6933b7da5": {
     "views": [
      {
       "cell_index": 9
      }
     ]
    },
    "c0e94fe70c9d4afb913323fc66e83f17": {
     "views": [
      {
       "cell_index": 13
      }
     ]
    },
    "c3f6543368474aa8b230d11fd60a0dbb": {
     "views": [
      {
       "cell_index": 5
      }
     ]
    },
    "c5e81abf2ce2499da098efb13901d5c0": {
     "views": [
      {
       "cell_index": 7
      }
     ]
    },
    "c9b39c116d4e46e8a8f83200f26a036c": {
     "views": [
      {
       "cell_index": 5
      }
     ]
    },
    "cc5fae9507634c1ba64cc3afcced984a": {
     "views": [
      {
       "cell_index": 7
      }
     ]
    },
    "ceddeab51ad04e90b5dd6eefe3090af3": {
     "views": [
      {
       "cell_index": 5
      }
     ]
    },
    "d116b8ad5212410e8a09dc67ed9cb24e": {
     "views": [
      {
       "cell_index": 7
      }
     ]
    },
    "d4f852ce5ca745cc9e86e108299b531c": {
     "views": [
      {
       "cell_index": 15
      }
     ]
    },
    "d5c51513b24245d280de3294ff5fea45": {
     "views": [
      {
       "cell_index": 15
      }
     ]
    },
    "d9cd0839d97b4f4187a76919d6fcc6b2": {
     "views": [
      {
       "cell_index": 9
      }
     ]
    },
    "db19910c97394bcca0f298a3b2201c53": {
     "views": [
      {
       "cell_index": 5
      }
     ]
    },
    "de3a47b0d94e436b97bd5b9d37733db3": {
     "views": [
      {
       "cell_index": 11
      }
     ]
    },
    "e3ee9c119cbd47c0814d69d2e4276abc": {
     "views": [
      {
       "cell_index": 5
      }
     ]
    },
    "e6c446e766974ea5b34ea4ebaba5fdf6": {
     "views": [
      {
       "cell_index": 9
      }
     ]
    },
    "e973fa5688de40c5b0ae89bd7d2eb59b": {
     "views": [
      {
       "cell_index": 13
      }
     ]
    },
    "eb2628ae591b4ed8a452ea89aab430cc": {
     "views": [
      {
       "cell_index": 5
      }
     ]
    },
    "ebfbd6435b634b588ebebc0d8f4cdcdb": {
     "views": [
      {
       "cell_index": 5
      }
     ]
    },
    "ee1bb684c0f8410eb678142c8156f004": {
     "views": [
      {
       "cell_index": 11
      }
     ]
    },
    "f275a7f5665c402486089eb26b0e9c5f": {
     "views": [
      {
       "cell_index": 15
      }
     ]
    },
    "f375841d7b044d6ca1fa2c7d8cd589b3": {
     "views": [
      {
       "cell_index": 13
      }
     ]
    },
    "f5dee7eebe2e48a6b519a21c3886e5bc": {
     "views": [
      {
       "cell_index": 7
      }
     ]
    },
    "f8544638599d43ae87c0ef947b650f63": {
     "views": [
      {
       "cell_index": 11
      }
     ]
    },
    "f87b1243bb4d4e8fa729c32b9267a617": {
     "views": [
      {
       "cell_index": 5
      }
     ]
    }
   },
   "version": "1.2.0"
  }
 },
 "nbformat": 4,
 "nbformat_minor": 1
}
